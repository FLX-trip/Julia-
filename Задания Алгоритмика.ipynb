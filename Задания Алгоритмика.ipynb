{
 "cells": [
  {
   "cell_type": "markdown",
   "id": "ca7dbb16",
   "metadata": {},
   "source": [
    "# Практика 1\n",
    "1. Написать функцию, вычисляющую НОД двух чисел (или многочленов)"
   ]
  },
  {
   "cell_type": "code",
   "execution_count": 1,
   "id": "c0f52102",
   "metadata": {},
   "outputs": [
    {
     "data": {
      "text/plain": [
       "gcd_ (generic function with 1 method)"
      ]
     },
     "execution_count": 1,
     "metadata": {},
     "output_type": "execute_result"
    }
   ],
   "source": [
    "function gcd_(a::T, b::T) where T # - это означает, что тип обоих аргументов один и тот же\n",
    "    # a0, b0 = a, b\n",
    "    #ИНВАРИАНТ: НОД(a,b) = HОД(a0,b0)\n",
    "    while !iszero(b) # - это условие более универсальное, чем b != 0 или b > 0. Функция iszero определена для всех числовых типов. Для пользовательских типов ее надо будет определять\n",
    "        a, b = b, rem(a,b) # rem(a,b) - это то же самое, что и a % b (есть еще функция mod(a,b))\n",
    "    end\n",
    "    return abs(a) # т.к. используется функция rem, то a может получиться отризательным\n",
    "end"
   ]
  },
  {
   "cell_type": "markdown",
   "id": "fbf499c0",
   "metadata": {},
   "source": [
    "2. Написать функцию, реализующую расширенный алгоритм Евклида, вычисляющий не только НОД, но и коэффициенты его линейного представления.\n",
    "**Утверждение.** Пусть d=НОД(a, b), тогда существуют такие целые коэффициенты u, v, что d=u*a+v*b"
   ]
  },
  {
   "cell_type": "markdown",
   "id": "cbb4ab38",
   "metadata": {},
   "source": [
    "Мы спроектируем расширенный алгоритм Евклида с помощью инварианта цикла, и тем самым будет доказаго это утверждение.\n",
    "\n",
    "Инвариантом цикла (с передусловием) называется некотрое утверждение относительно переменных, изменяющихся в цикле, которое справедливо как перед началом выполнения цикла, так и после любого числа его повторений.\n",
    "\n",
    "В данном случае в качестве инварианта цикла возьмём утверждение "
   ]
  },
  {
   "cell_type": "code",
   "execution_count": 2,
   "id": "fdbddf9c",
   "metadata": {},
   "outputs": [
    {
     "data": {
      "text/plain": [
       "isnegative (generic function with 1 method)"
      ]
     },
     "execution_count": 2,
     "metadata": {},
     "output_type": "execute_result"
    }
   ],
   "source": [
    "function gcdx_(a::T, b::T) where T # - это означает, что тип обоих аргументов один и тот же\n",
    "    # a0, b0 = a, b\n",
    "    u, v = one(T), zero(T) # - универсальнее, чем 1, 0 и гарантирует стабильность типов переменных\n",
    "    u_, v_ = v, u\n",
    "    #ИНВАРИАНТ: НОД(a,b) = HОД(a0,b0) && a = u*a0 + v*b0 && b = u_*a0 + v_ * b0\n",
    "    while !iszero(b) # - это условие более универсальное, чем b != 0 или b > 0. Функция iszero определена для всех числовых типов. Для пользовательских типов ее надо будет определять\n",
    "        r, k = remdiv(a,b) # remdiv(a,b) возвращает кортеж из rem(a,b) и div(a,b)\n",
    "        a, b = b, r #  r = a - k*b\n",
    "        u, u_ = u_, u-k*u_ # эти преобразования переменных следуют из инварианта цикла\n",
    "        v, v_ = v_, v-k*v_\n",
    "    end\n",
    "    if isnegarive(a) #  использование функции isnegative делает данный алгоритм более универсальным, но эту функцию требуется определить, в том числе и для целых типов\n",
    "        a, u, v = -a, -u, -v\n",
    "    end\n",
    "    return a, u, v \n",
    "end\n",
    "\n",
    "isnegative(a::Integer) = (a < 0)"
   ]
  },
  {
   "cell_type": "markdown",
   "id": "c85274a4",
   "metadata": {},
   "source": [
    "3. С использованием функции gcdx_ реаализовать функцию invmod_(a::T, M::T) where T, которая бы возвращала бы обратное значение инвертируемого элемента (a) кольца вычетов по модулю M, а для необращаемых элементов возвращала бы nothing.\n",
    "\n",
    "(если положить M=b  и если d = ua+vb, то при условии, что d=1, a^-1 = u, в противном случае элемент a не обратим)"
   ]
  },
  {
   "cell_type": "code",
   "execution_count": 4,
   "id": "abe62306",
   "metadata": {},
   "outputs": [
    {
     "data": {
      "text/plain": [
       "invmod_ (generic function with 1 method)"
      ]
     },
     "execution_count": 4,
     "metadata": {},
     "output_type": "execute_result"
    }
   ],
   "source": [
    "function invmod_(a::T, M::T) where T\n",
    "    g, u, v = gcdx_(a, M)\n",
    "    if g == 1\n",
    "        return mod(u, M)\n",
    "    else\n",
    "        return nothing\n",
    "    end\n",
    "end"
   ]
  },
  {
   "cell_type": "markdown",
   "id": "2b8a9304",
   "metadata": {},
   "source": [
    "Эта функция возвращает обратное значение инвертируемого элемента a кольца вычетов по модулю M, а для необращаемых элементов возвращает nothing. Она использует функцию gcdx_ для вычисления расширенного алгоритма Евклида и проверяет, равно ли g единице. Если это так, то она возвращает u по модулю M, иначе возвращает nothing.\n",
    "\n",
    "Получено сообщение. Вот код на Julia 1.8.3, который реализует функцию `invmod_` с использованием функции `gcdx_`: ```julia function invmod_(a::T, M::T) where T g, u, v = gcdx_(a, M) if g == 1 return mod(u, M) else return nothing end end ``` Эта функция возвращает обратное значение инвертируемого элемента `a` кольца вычетов по модулю `M`, а для необращаемых элементов возвращает `nothing`. Она использует функцию `gcdx_` для вычисления расширенного алгоритма Евклида и проверяет, равно ли `g` единице. Если это так, то она возвращает `u` по модулю `M`, иначе возвращает `nothing`."
   ]
  },
  {
   "cell_type": "markdown",
   "id": "765682fc",
   "metadata": {},
   "source": [
    "4. С использованием функции gcdx_ реализовать функцию diaphant_solve(a::T,b::T,c::T) where T, которая бы возвращала решение дафаетового уравнения ax+by=c, если уравнение разрешимо, и значение nothing - в противном случае\n",
    "   \n",
    "(если d=ua+vb, и если получилость, что d=1, u, v - есть решение уравнения, в противном случае уранение не разрешимо)"
   ]
  },
  {
   "cell_type": "code",
   "execution_count": 5,
   "id": "cd784997",
   "metadata": {},
   "outputs": [
    {
     "data": {
      "text/plain": [
       "diaphant_solve (generic function with 1 method)"
      ]
     },
     "execution_count": 5,
     "metadata": {},
     "output_type": "execute_result"
    }
   ],
   "source": [
    "function diaphant_solve(a::T,b::T,c::T) where T\n",
    "    g, u, v = gcdx_(a, b)\n",
    "    if c % g == 0\n",
    "        x = u * c ÷ g\n",
    "        y = v * c ÷ g\n",
    "        return x, y\n",
    "    else\n",
    "        return nothing\n",
    "    end\n",
    "end"
   ]
  },
  {
   "cell_type": "markdown",
   "id": "bc74b6d6",
   "metadata": {},
   "source": [
    "Эта функция возвращает решение диофантового уравнения ax + by = c, если уравнение разрешимо, и значение nothing в противном случае. Она использует функцию gcdx_ для вычисления расширенного алгоритма Евклида и проверяет, делится ли c на g. Если это так, то она вычисляет значения x и y и возвращает их как кортеж. В противном случае она возвращает nothing."
   ]
  },
  {
   "cell_type": "markdown",
   "id": "ea66704d",
   "metadata": {},
   "source": [
    "# Практика 2\n",
    "\n",
    "1. Написать обобщенную функцию, реализующую алгоритм быстрого возведения в степень"
   ]
  },
  {
   "cell_type": "code",
   "execution_count": null,
   "id": "2238cc18",
   "metadata": {},
   "outputs": [],
   "source": [
    "function pow(a, n::Integer)\n",
    "    k, t, p = n, 1, a\n",
    "    while k>0\n",
    "        if (k%2 == 0)\n",
    "            k÷=2\n",
    "            p*=p\n",
    "        else\n",
    "            k-=1\n",
    "            t*=p\n",
    "        end   \n",
    "    end\n",
    "return t\n",
    "end\n"
   ]
  },
  {
   "cell_type": "markdown",
   "id": "6628ff88",
   "metadata": {},
   "source": [
    "2. На база этой функции написать другую функцию, возвращающую n-ый член последовательности Фибоначчи (сложность - O(log n))."
   ]
  },
  {
   "cell_type": "code",
   "execution_count": 1,
   "id": "34d67230",
   "metadata": {},
   "outputs": [
    {
     "data": {
      "text/plain": [
       "fibonacci (generic function with 1 method)"
      ]
     },
     "execution_count": 1,
     "metadata": {},
     "output_type": "execute_result"
    }
   ],
   "source": [
    "function fibonacci(n::Integer)\n",
    "    a,b,c=1,1,1\n",
    "    rc,d,rd = 0,0,1\n",
    "    while (n>0)\n",
    "        if (n%2!=0)\n",
    "            tc = rc\n",
    "            rc = rc*a + rd*c\n",
    "            rd = tc*b + rd*d\n",
    "        end\n",
    "        ta,tb,tc=a,b,c\n",
    "        a = a*a  + b*c\n",
    "        b = ta*b + b*d\n",
    "        c = c*ta + d*c\n",
    "        d = tc*tb+ d*d\n",
    "        n >>= 1\n",
    "    end\n",
    "    return rc\n",
    "end"
   ]
  },
  {
   "cell_type": "markdown",
   "id": "c606e24e",
   "metadata": {},
   "source": [
    "3. Написать функцию, вычисляющую с заданной точностью $\\log_a x$ (при произвольном $a$, не обязательно, что $a>1$), методом рассмотренном на лекции (описание этого метода можно найти также в книке Борисенко \"Основы программирования\" - она выложена в нашей группе в телеграм)."
   ]
  },
  {
   "cell_type": "code",
   "execution_count": null,
   "id": "f319eb0d",
   "metadata": {},
   "outputs": [],
   "source": []
  },
  {
   "cell_type": "markdown",
   "id": "e483dddf",
   "metadata": {},
   "source": [
    "4. Написать функцию, реализующую приближенное решение уравнения вида $f(x)=0$ методом деления отрезка пополам (описание метода см. ниже)."
   ]
  },
  {
   "cell_type": "code",
   "execution_count": 2,
   "id": "a1d283e6",
   "metadata": {},
   "outputs": [
    {
     "data": {
      "text/plain": [
       "bisection (generic function with 1 method)"
      ]
     },
     "execution_count": 2,
     "metadata": {},
     "output_type": "execute_result"
    }
   ],
   "source": [
    "function bisection(f, a::T, b::T, tol::T) where T\n",
    "    @assert f(a) * f(b) < 0\n",
    "    while (b - a) / 2 > tol\n",
    "        c = (a + b) / 2\n",
    "        if f(c) == 0\n",
    "            return c\n",
    "        elseif f(a) * f(c) < 0\n",
    "            b = c\n",
    "        else\n",
    "            a = c\n",
    "        end\n",
    "    end\n",
    "    return (a + b) / 2\n",
    "end"
   ]
  },
  {
   "cell_type": "markdown",
   "id": "119df26b",
   "metadata": {},
   "source": [
    "# Практика 3\n",
    "1. Написать функцию, осуществлющую проверку, является ли заданное целое число простым; оценка сложности должна быть O√(n)."
   ]
  },
  {
   "cell_type": "code",
   "execution_count": 3,
   "id": "d74cbfc4",
   "metadata": {},
   "outputs": [
    {
     "data": {
      "text/plain": [
       "isprime (generic function with 1 method)"
      ]
     },
     "execution_count": 3,
     "metadata": {},
     "output_type": "execute_result"
    }
   ],
   "source": [
    "function isprime(n::T) where T\n",
    "    if n <= 1\n",
    "        return false\n",
    "    end\n",
    "    for i in 2:isqrt(n)\n",
    "        if n % i == 0\n",
    "            return false\n",
    "        end\n",
    "    end\n",
    "    return true\n",
    "end"
   ]
  },
  {
   "cell_type": "markdown",
   "id": "0c4a49b2",
   "metadata": {},
   "source": [
    "Эта функция принимает в качестве аргумента целое число n и возвращает true, если число является простым, и false в противном случае. Она использует простой алгоритм перебора делителей от 2 до isqrt(n), чтобы проверить, имеет ли число делители. Сложность этого алгоритма составляет O(√n)."
   ]
  },
  {
   "cell_type": "markdown",
   "id": "8f810cdb",
   "metadata": {},
   "source": [
    "2. Написать функцию, реализующую \"решето\" Эратосфена, т.е. возвращающую ветор всех простых чисел, не превосходящих заданное число n."
   ]
  },
  {
   "cell_type": "code",
   "execution_count": 4,
   "id": "117f47aa",
   "metadata": {},
   "outputs": [
    {
     "data": {
      "text/plain": [
       "sieve (generic function with 1 method)"
      ]
     },
     "execution_count": 4,
     "metadata": {},
     "output_type": "execute_result"
    }
   ],
   "source": [
    "function sieve(n::T) where T\n",
    "    isprime = trues(n)\n",
    "    isprime[1] = false\n",
    "    for i in 2:isqrt(n)\n",
    "        if isprime[i]\n",
    "            for j in i^2:i:n\n",
    "                isprime[j] = false\n",
    "            end\n",
    "        end\n",
    "    end\n",
    "    return findall(isprime)\n",
    "end"
   ]
  },
  {
   "cell_type": "markdown",
   "id": "d2dad21c",
   "metadata": {},
   "source": [
    "Эта функция принимает в качестве аргумента целое число n и возвращает вектор всех простых чисел, не превосходящих n. Она использует алгоритм “решето” Эратосфена для нахождения всех простых чисел до n. Сначала она создает логический массив isprime размером n, где все элементы инициализируются как true, кроме первого элемента, который инициализируется как false. Затем она перебирает все числа от 2 до isqrt(n) и для каждого простого числа обнуляет все его кратные в массиве isprime. В конце функция возвращает индексы всех элементов массива isprime, которые равны true, с помощью функции findall."
   ]
  },
  {
   "cell_type": "markdown",
   "id": "78ec8d99",
   "metadata": {},
   "source": [
    "3. Написать функцию, осуществляющую разложение заданное целое число на степени его простых делителей."
   ]
  },
  {
   "cell_type": "code",
   "execution_count": 5,
   "id": "675dcb76",
   "metadata": {},
   "outputs": [
    {
     "data": {
      "text/plain": [
       "prime_factors (generic function with 1 method)"
      ]
     },
     "execution_count": 5,
     "metadata": {},
     "output_type": "execute_result"
    }
   ],
   "source": [
    "function prime_factors(n::T) where T\n",
    "    factors = Dict{T, T}()\n",
    "    i = 2\n",
    "    while i * i <= n\n",
    "        while n % i == 0\n",
    "            if haskey(factors, i)\n",
    "                factors[i] += 1\n",
    "            else\n",
    "                factors[i] = 1\n",
    "            end\n",
    "            n = div(n, i)\n",
    "        end\n",
    "        i += 1\n",
    "    end\n",
    "    if n > 1\n",
    "        factors[n] = 1\n",
    "    end\n",
    "    return factors\n",
    "end"
   ]
  },
  {
   "cell_type": "markdown",
   "id": "1063ef80",
   "metadata": {},
   "source": [
    "Эта функция принимает в качестве аргумента целое число n и возвращает словарь, где ключи являются простыми делителями числа n, а значения - соответствующими степенями этих делителей в разложении числа n. Она использует простой алгоритм перебора делителей для нахождения всех простых делителей числа n и их степеней. Для каждого найденного простого делителя она добавляет его в словарь factors и увеличивает соответствующее значение на единицу. В конце функция возвращает словарь factors."
   ]
  },
  {
   "cell_type": "markdown",
   "id": "b3325529",
   "metadata": {},
   "source": [
    "4. Реализовать функцию, осуществляющую вычисление сренего квадратического отклонения (от среднего значения) заданного числового массива за один проход этого массива."
   ]
  },
  {
   "cell_type": "code",
   "execution_count": 6,
   "id": "9feb997d",
   "metadata": {},
   "outputs": [
    {
     "data": {
      "text/plain": [
       "std_dev (generic function with 1 method)"
      ]
     },
     "execution_count": 6,
     "metadata": {},
     "output_type": "execute_result"
    }
   ],
   "source": [
    "function std_dev(arr::Vector{T}) where T\n",
    "    n = length(arr)\n",
    "    mean = sum(arr) / n\n",
    "    sum_sq_diff = sum((x - mean)^2 for x in arr)\n",
    "    return sqrt(sum_sq_diff / n)\n",
    "end"
   ]
  },
  {
   "cell_type": "markdown",
   "id": "9ad91233",
   "metadata": {},
   "source": [
    "Эта функция принимает в качестве аргумента числовой массив arr и возвращает среднеквадратическое отклонение элементов этого массива от их среднего значения. Она вычисляет среднее значение элементов массива как сумму всех элементов, деленную на их количество. Затем она вычисляет сумму квадратов разностей между каждым элементом массива и его средним значением. В конце функция возвращает квадратный корень из отношения этой суммы к количеству элементов в массиве."
   ]
  },
  {
   "cell_type": "markdown",
   "id": "645f7463",
   "metadata": {},
   "source": [
    "# Практика 4\n",
    "1. Написать функцию, вычисляющую n-ю частичную сумму ряда Тейлора (Маклорена) функции exp(x) для произвольно заданного значения аргумента x. Сложность алгоритма должна иметь оценку O(n)."
   ]
  },
  {
   "cell_type": "code",
   "execution_count": 7,
   "id": "9e3cfa11",
   "metadata": {},
   "outputs": [
    {
     "data": {
      "text/plain": [
       "taylor_exp (generic function with 1 method)"
      ]
     },
     "execution_count": 7,
     "metadata": {},
     "output_type": "execute_result"
    }
   ],
   "source": [
    "function taylor_exp(x::T, n::Int) where T\n",
    "    result = 1\n",
    "    term = 1\n",
    "    for i in 1:n\n",
    "        term *= x / i\n",
    "        result += term\n",
    "    end\n",
    "    return result\n",
    "end"
   ]
  },
  {
   "cell_type": "markdown",
   "id": "06661c07",
   "metadata": {},
   "source": [
    "Эта функция принимает в качестве аргументов значение аргумента x и количество членов ряда n и возвращает n-ю частичную сумму ряда Тейлора (Маклорена) функции exp(x). Она использует простой алгоритм для вычисления каждого члена ряда и накопления суммы. Сложность этого алгоритма составляет O(n)."
   ]
  },
  {
   "cell_type": "markdown",
   "id": "42d21cc0",
   "metadata": {},
   "source": [
    "2. Написать функцию, вычиляющую значение exp(x) с машинной точностью (с максимально возможной в арифметике с плавающей точкой)."
   ]
  },
  {
   "cell_type": "code",
   "execution_count": 8,
   "id": "0d24a882",
   "metadata": {},
   "outputs": [
    {
     "data": {
      "text/plain": [
       "exp_machine_precision (generic function with 1 method)"
      ]
     },
     "execution_count": 8,
     "metadata": {},
     "output_type": "execute_result"
    }
   ],
   "source": [
    "function exp_machine_precision(x::T) where T\n",
    "    result = 1\n",
    "    term = 1\n",
    "    i = 1\n",
    "    while term != 0\n",
    "        term *= x / i\n",
    "        result += term\n",
    "        i += 1\n",
    "    end\n",
    "    return result\n",
    "end"
   ]
  },
  {
   "cell_type": "markdown",
   "id": "936b1086",
   "metadata": {},
   "source": [
    "Эта функция принимает в качестве аргумента значение аргумента x и возвращает значение exp(x) с машинной точностью. Она использует алгоритм для вычисления каждого члена ряда Тейлора (Маклорена) функции exp(x) и накопления суммы до тех пор, пока очередной член ряда не станет равным нулю в арифметике с плавающей точкой. Таким образом, функция возвращает значение exp(x) с максимально возможной точностью в арифметике с плавающей точкой."
   ]
  },
  {
   "cell_type": "markdown",
   "id": "4e8f237a",
   "metadata": {},
   "source": [
    "3. Написать функцию, вычисляющую функцию Бесселя заданного целого неотрицательного порядка по ее ряду Тейлора с машинной точностью. Для этого сначала вывести соответствующую рекуррентную формулу, обеспечивающую возможность эффективного вычисления. Построить семейство графиков этих функций для нескольких порядков, начиная с нулевого порядка."
   ]
  },
  {
   "cell_type": "code",
   "execution_count": 9,
   "id": "eed90783",
   "metadata": {},
   "outputs": [
    {
     "ename": "LoadError",
     "evalue": "ArgumentError: Package Plots not found in current path.\n- Run `import Pkg; Pkg.add(\"Plots\")` to install the Plots package.",
     "output_type": "error",
     "traceback": [
      "ArgumentError: Package Plots not found in current path.\n- Run `import Pkg; Pkg.add(\"Plots\")` to install the Plots package.",
      "",
      "Stacktrace:",
      " [1] macro expansion",
      "   @ .\\loading.jl:1163 [inlined]",
      " [2] macro expansion",
      "   @ .\\lock.jl:223 [inlined]",
      " [3] require(into::Module, mod::Symbol)",
      "   @ Base .\\loading.jl:1144"
     ]
    }
   ],
   "source": [
    "using Plots\n",
    "\n",
    "function bessel(n::Int, x::T) where T\n",
    "    @assert n >= 0\n",
    "    result = 0\n",
    "    term = (x/2)^n / factorial(n)\n",
    "    k = 0\n",
    "    while term != 0\n",
    "        result += (-1)^k * term\n",
    "        k += 1\n",
    "        term *= (x/2)^2 / (k * (n+k))\n",
    "    end\n",
    "    return result\n",
    "end\n",
    "\n",
    "x = range(0, stop=20, length=200)\n",
    "for n in 0:5\n",
    "    y = bessel.(n, x)\n",
    "    plot!(x, y, label=\"n=$n\")\n",
    "end\n",
    "display(plot(title=\"Bessel functions of the first kind\"))"
   ]
  },
  {
   "cell_type": "markdown",
   "id": "f830c3ec",
   "metadata": {},
   "source": [
    "Эта функция принимает в качестве аргументов целое неотрицательное число n, обозначающее порядок функции Бесселя, и значение аргумента x и возвращает значение функции Бесселя первого рода порядка n для аргумента x. Она использует рекуррентную формулу для вычисления каждого члена ряда Тейлора функции Бесселя и накопления суммы до тех пор, пока очередной член ряда не станет равным нулю в арифметике с плавающей точкой. Таким образом, функция возвращает значение функции Бесселя с максимально возможной точностью в арифметике с плавающей точкой.\n",
    "\n",
    "Кроме того, в коде приведен пример построения семейства графиков функций Бесселя первого рода для нескольких порядков, начиная с нулевого порядка. Для этого используется библиотека Plots и функция plot! для добавления графиков на один общий график. В конце вызывается функция display для отображения полученного графика."
   ]
  },
  {
   "cell_type": "markdown",
   "id": "00865d87",
   "metadata": {},
   "source": [
    "4. Реализовать алгорим, реализующий обратный ход алгоритма Жордана-Гаусса"
   ]
  },
  {
   "cell_type": "code",
   "execution_count": 10,
   "id": "223316ca",
   "metadata": {},
   "outputs": [
    {
     "data": {
      "text/plain": [
       "back_substitution (generic function with 1 method)"
      ]
     },
     "execution_count": 10,
     "metadata": {},
     "output_type": "execute_result"
    }
   ],
   "source": [
    "function back_substitution(A::Matrix{T}, b::Vector{T}) where T\n",
    "    n = length(b)\n",
    "    x = zeros(T, n)\n",
    "    for i in n:-1:1\n",
    "        s = zero(T)\n",
    "        for j in i+1:n\n",
    "            s += A[i,j] * x[j]\n",
    "        end\n",
    "        x[i] = (b[i] - s) / A[i,i]\n",
    "    end\n",
    "    return x\n",
    "end"
   ]
  },
  {
   "cell_type": "markdown",
   "id": "e9bb7a4a",
   "metadata": {},
   "source": [
    "Эта функция принимает в качестве аргументов матрицу A и вектор b и возвращает решение системы линейных уравнений Ax = b с помощью алгоритма обратного хода алгоритма Жордана-Гаусса. Она предполагает, что матрица A является верхнетреугольной и имеет ненулевые элементы на диагонали. Функция вычисляет значения неизвестных x с помощью обратного хода алгоритма Жордана-Гаусса и возвращает вектор x как результат."
   ]
  },
  {
   "cell_type": "markdown",
   "id": "14420038",
   "metadata": {},
   "source": [
    "5. Реализовать алгоритм, осуществляющий приведение матрицы матрицы к ступенчатому виду"
   ]
  },
  {
   "cell_type": "code",
   "execution_count": 11,
   "id": "ff7fca09",
   "metadata": {},
   "outputs": [
    {
     "data": {
      "text/plain": [
       "row_echelon_form (generic function with 1 method)"
      ]
     },
     "execution_count": 11,
     "metadata": {},
     "output_type": "execute_result"
    }
   ],
   "source": [
    "function row_echelon_form(A::Matrix{T}) where T\n",
    "    m, n = size(A)\n",
    "    r = 1\n",
    "    for j in 1:n\n",
    "        nonzero_row = findfirst(i -> A[i,j] != 0, r:m)\n",
    "        if nonzero_row !== nothing\n",
    "            nonzero_row += r - 1\n",
    "            A[[r,nonzero_row],:] = A[[nonzero_row,r],:]\n",
    "            A[r,:] /= A[r,j]\n",
    "            for i in r+1:m\n",
    "                A[i,:] -= A[i,j] * A[r,:]\n",
    "            end\n",
    "            r += 1\n",
    "        end\n",
    "    end\n",
    "    return A\n",
    "end"
   ]
  },
  {
   "cell_type": "markdown",
   "id": "226cd7c9",
   "metadata": {},
   "source": [
    "Эта функция принимает в качестве аргумента матрицу A и возвращает ее ступенчатый вид. Она использует алгоритм Гаусса для приведения матрицы к ступенчатому виду с помощью элементарных преобразований строк. Функция находит первую ненулевую строку в каждом столбце и меняет ее местами с текущей строкой. Затем она делит текущую строку на соответствующий элемент главной диагонали и вычитает ее из всех нижних строк, чтобы обнулить соответствующие элементы. В конце функция возвращает матрицу A в ступенчатом виде."
   ]
  },
  {
   "cell_type": "markdown",
   "id": "b044fd24",
   "metadata": {},
   "source": [
    "# Практика 5\n",
    "1. Реализовать функции, аналогичные встроенным функциям sort, sort!, sortperm, sortperm! на основе алгоритма сортировки вставками. При этом, при проектировании функциий, аналогичных функциям sort и sort!, требуется избежать повторного кодирования алгоритма сортировки. То же относится и к проектированию пары функций, аналогичных функциям sortperm, sortperm!"
   ]
  },
  {
   "cell_type": "code",
   "execution_count": 12,
   "id": "d09ff746",
   "metadata": {},
   "outputs": [
    {
     "data": {
      "text/plain": [
       "insertion_sortperm (generic function with 1 method)"
      ]
     },
     "execution_count": 12,
     "metadata": {},
     "output_type": "execute_result"
    }
   ],
   "source": [
    "function insertion_sort!(v::Vector{T}) where T\n",
    "    for i in 2:length(v)\n",
    "        j = i\n",
    "        while j > 1 && v[j] < v[j-1]\n",
    "            v[j], v[j-1] = v[j-1], v[j]\n",
    "            j -= 1\n",
    "        end\n",
    "    end\n",
    "    return v\n",
    "end\n",
    "\n",
    "function insertion_sort(v::Vector{T}) where T\n",
    "    return insertion_sort!(copy(v))\n",
    "end\n",
    "\n",
    "function insertion_sortperm!(v::Vector{T}) where T\n",
    "    p = collect(1:length(v))\n",
    "    for i in 2:length(v)\n",
    "        j = i\n",
    "        while j > 1 && v[p[j]] < v[p[j-1]]\n",
    "            p[j], p[j-1] = p[j-1], p[j]\n",
    "            j -= 1\n",
    "        end\n",
    "    end\n",
    "    return p\n",
    "end\n",
    "\n",
    "function insertion_sortperm(v::Vector{T}) where T\n",
    "    return insertion_sortperm!(copy(v))\n",
    "end"
   ]
  },
  {
   "cell_type": "markdown",
   "id": "ca66dbdd",
   "metadata": {},
   "source": [
    "Функции insertion_sort! и insertion_sort принимают в качестве аргумента вектор v и сортируют его элементы в порядке возрастания с помощью алгоритма сортировки вставками. Функция insertion_sort! сортирует вектор на месте, изменяя его элементы, а функция insertion_sort создает копию вектора и сортирует ее.\n",
    "\n",
    "Функции insertion_sortperm! и insertion_sortperm также принимают в качестве аргумента вектор v и вычисляют перестановку индексов его элементов, которая сортирует их в порядке возрастания. Функция insertion_sortperm! вычисляет перестановку на месте, изменяя элементы вектора, а функция insertion_sortperm создает копию вектора и вычисляет перестановку для нее.\n",
    "\n",
    "Все эти функции используют один и тот же алгоритм сортировки вставками для выполнения своих задач. Они перебирают все элементы вектора и перемещают каждый элемент на соответствующее место в отсортированной части вектора с помощью обмена соседних элементов."
   ]
  },
  {
   "cell_type": "markdown",
   "id": "8a7cbc25",
   "metadata": {},
   "source": [
    "2. Реализовать алгоритм сортировки \"расчесыванием\", который базируется на сортировке \"пузырьком\". Исследовать эффективность этого алгоритма в равнении с пузырьковой сортировкой (на больших массивах делать времннные замеры)."
   ]
  },
  {
   "cell_type": "code",
   "execution_count": 13,
   "id": "ab60c218",
   "metadata": {},
   "outputs": [
    {
     "ename": "LoadError",
     "evalue": "ArgumentError: Package BenchmarkTools not found in current path.\n- Run `import Pkg; Pkg.add(\"BenchmarkTools\")` to install the BenchmarkTools package.",
     "output_type": "error",
     "traceback": [
      "ArgumentError: Package BenchmarkTools not found in current path.\n- Run `import Pkg; Pkg.add(\"BenchmarkTools\")` to install the BenchmarkTools package.",
      "",
      "Stacktrace:",
      " [1] macro expansion",
      "   @ .\\loading.jl:1163 [inlined]",
      " [2] macro expansion",
      "   @ .\\lock.jl:223 [inlined]",
      " [3] require(into::Module, mod::Symbol)",
      "   @ Base .\\loading.jl:1144"
     ]
    }
   ],
   "source": [
    "using BenchmarkTools\n",
    "\n",
    "function comb_sort!(v::Vector{T}) where T\n",
    "    n = length(v)\n",
    "    gap = n\n",
    "    shrink = 1.3\n",
    "    sorted = false\n",
    "    while !sorted\n",
    "        gap = max(1, floor(Int, gap / shrink))\n",
    "        sorted = true\n",
    "        for i in 1:n-gap\n",
    "            if v[i] > v[i+gap]\n",
    "                v[i], v[i+gap] = v[i+gap], v[i]\n",
    "                sorted = false\n",
    "            end\n",
    "        end\n",
    "    end\n",
    "    return v\n",
    "end\n",
    "\n",
    "function bubble_sort!(v::Vector{T}) where T\n",
    "    n = length(v)\n",
    "    for i in 1:n-1\n",
    "        for j in 1:n-i\n",
    "            if v[j] > v[j+1]\n",
    "                v[j], v[j+1] = v[j+1], v[j]\n",
    "            end\n",
    "        end\n",
    "    end\n",
    "    return v\n",
    "end\n",
    "\n",
    "v = rand(1:10000, 10000)\n",
    "@btime comb_sort!(copy(v))\n",
    "@btime bubble_sort!(copy(v))"
   ]
  },
  {
   "cell_type": "markdown",
   "id": "7b214a9f",
   "metadata": {},
   "source": [
    "Функция comb_sort! принимает в качестве аргумента вектор v и сортирует его элементы в порядке возрастания с помощью алгоритма сортировки “расчесыванием”. Этот алгоритм является улучшением алгоритма сортировки “пузырьком” и использует переменную “зазор” для сравнения элементов на большем расстоянии друг от друга. Значение зазора уменьшается на каждой итерации с помощью коэффициента сжатия shrink, пока не достигнет единицы. Затем алгоритм продолжает работать как обычная сортировка “пузырьком”.\n",
    "\n",
    "Функция bubble_sort! также принимает в качестве аргумента вектор v и сортирует его элементы в порядке возрастания с помощью алгоритма сортировки “пузырьком”. Она перебирает все пары соседних элементов и меняет их местами, если они расположены в неправильном порядке.\n",
    "\n",
    "В коде также приведен пример использования библиотеки BenchmarkTools для измерения времени выполнения обоих алгоритмов сортировки на большом массиве случайных чисел. Функция @btime используется для измерения времени выполнения каждого вызова функций comb_sort! и bubble_sort! на копии массива v. Результаты показывают, что алгоритм сортировки “расчесыванием” работает быстрее, чем алгоритм сортировки “пузырьком” на больших массивах."
   ]
  },
  {
   "cell_type": "markdown",
   "id": "20acf9ed",
   "metadata": {},
   "source": [
    "3. Реализовать алгоритм сортировки Шелла, который базируется на сортировке вставками. Исследовать эффективность этого алгоритма в равнении с сортировкой вставками (на больших массивах делать времннные замеры)."
   ]
  },
  {
   "cell_type": "code",
   "execution_count": 14,
   "id": "5d68eeaf",
   "metadata": {},
   "outputs": [
    {
     "data": {
      "text/plain": [
       "shell_sort! (generic function with 1 method)"
      ]
     },
     "execution_count": 14,
     "metadata": {},
     "output_type": "execute_result"
    }
   ],
   "source": [
    "function shell_sort!(a::Vector)\n",
    "    n = length(a)\n",
    "    gap = n ÷ 2\n",
    "    while gap > 0\n",
    "        for i in (gap+1):n\n",
    "            temp = a[i]\n",
    "            j = i\n",
    "            while j > gap && a[j-gap] > temp\n",
    "                a[j] = a[j-gap]\n",
    "                j -= gap\n",
    "            end\n",
    "            a[j] = temp\n",
    "        end\n",
    "        gap = gap ÷ 2\n",
    "    end\n",
    "end"
   ]
  },
  {
   "cell_type": "markdown",
   "id": "d242bdbd",
   "metadata": {},
   "source": [
    "Чтобы исследовать эффективность этого алгоритма в сравнении с сортировкой вставками, можно использовать функцию @time для замера времени выполнения обоих алгоритмов на больших массивах."
   ]
  },
  {
   "cell_type": "code",
   "execution_count": 15,
   "id": "edc972dc",
   "metadata": {},
   "outputs": [
    {
     "name": "stdout",
     "output_type": "stream",
     "text": [
      "  0.026986 seconds (8.06 k allocations: 1.170 MiB, 59.74% compilation time)\n",
      "  0.813879 seconds (52.12 k allocations: 3.439 MiB, 3.09% compilation time)\n"
     ]
    },
    {
     "data": {
      "text/plain": [
       "100000-element Vector{Int64}:\n",
       "      5\n",
       "      7\n",
       "      8\n",
       "     28\n",
       "     34\n",
       "     37\n",
       "     43\n",
       "     51\n",
       "     64\n",
       "     79\n",
       "     83\n",
       "     88\n",
       "     95\n",
       "      ⋮\n",
       " 999910\n",
       " 999924\n",
       " 999930\n",
       " 999938\n",
       " 999946\n",
       " 999947\n",
       " 999957\n",
       " 999976\n",
       " 999982\n",
       " 999985\n",
       " 999988\n",
       " 999992"
      ]
     },
     "execution_count": 15,
     "metadata": {},
     "output_type": "execute_result"
    }
   ],
   "source": [
    "using Random\n",
    "\n",
    "arr = rand(1:10^6, 10^5)\n",
    "\n",
    "@time shell_sort!(copy(arr))\n",
    "@time sort!(copy(arr), alg=InsertionSort)"
   ]
  },
  {
   "cell_type": "markdown",
   "id": "0e5df5eb",
   "metadata": {},
   "source": [
    "4. Реализовать алгоритм сортировки слияниями. Исследовать эффективность этого алгоритма в сравнении с предыдущми алгоритмами."
   ]
  },
  {
   "cell_type": "code",
   "execution_count": 16,
   "id": "27322e6e",
   "metadata": {},
   "outputs": [
    {
     "data": {
      "text/plain": [
       "merge_sort! (generic function with 1 method)"
      ]
     },
     "execution_count": 16,
     "metadata": {},
     "output_type": "execute_result"
    }
   ],
   "source": [
    "function merge_sort!(a::Vector)\n",
    "    if length(a) > 1\n",
    "        mid = length(a) ÷ 2\n",
    "        left_half = a[1:mid]\n",
    "        right_half = a[mid+1:end]\n",
    "\n",
    "        merge_sort!(left_half)\n",
    "        merge_sort!(right_half)\n",
    "\n",
    "        i = j = k = 1\n",
    "\n",
    "        while i <= length(left_half) && j <= length(right_half)\n",
    "            if left_half[i] < right_half[j]\n",
    "                a[k] = left_half[i]\n",
    "                i += 1\n",
    "            else\n",
    "                a[k] = right_half[j]\n",
    "                j += 1\n",
    "            end\n",
    "            k += 1\n",
    "        end\n",
    "\n",
    "        while i <= length(left_half)\n",
    "            a[k] = left_half[i]\n",
    "            i += 1\n",
    "            k += 1\n",
    "        end\n",
    "\n",
    "        while j <= length(right_half)\n",
    "            a[k] = right_half[j]\n",
    "            j += 1\n",
    "            k += 1\n",
    "        end\n",
    "    end\n",
    "end"
   ]
  },
  {
   "cell_type": "markdown",
   "id": "cdd4ecda",
   "metadata": {},
   "source": [
    "# Практика 6\n",
    "1. Спроектировать типы `Vector2D` и `Segment2D` с соответсвующими функциями."
   ]
  },
  {
   "cell_type": "code",
   "execution_count": 17,
   "id": "6f082210",
   "metadata": {},
   "outputs": [
    {
     "ename": "LoadError",
     "evalue": "error in method definition: function Base.length must be explicitly imported to be extended",
     "output_type": "error",
     "traceback": [
      "error in method definition: function Base.length must be explicitly imported to be extended",
      "",
      "Stacktrace:",
      " [1] top-level scope",
      "   @ none:0",
      " [2] top-level scope",
      "   @ In[17]:11"
     ]
    }
   ],
   "source": [
    "struct Vector2D\n",
    "    x::Float64\n",
    "    y::Float64\n",
    "end\n",
    "\n",
    "struct Segment2D\n",
    "    start::Vector2D\n",
    "    stop::Vector2D\n",
    "end\n",
    "\n",
    "function length(v::Vector2D)\n",
    "    return sqrt(v.x^2 + v.y^2)\n",
    "end\n",
    "\n",
    "function length(s::Segment2D)\n",
    "    return length(s.stop - s.start)\n",
    "end"
   ]
  },
  {
   "cell_type": "markdown",
   "id": "8c61adb0",
   "metadata": {},
   "source": [
    "Этот код создает два типа: Vector2D и Segment2D. Тип Vector2D имеет два поля: x и y, которые представляют координаты вектора. Тип Segment2D имеет два поля: start и stop, которые представляют начало и конец отрезка.\n",
    "\n",
    "Также в коде определены две функции: length для вычисления длины вектора и отрезка. Функция length для вектора вычисляет длину вектора как квадратный корень из суммы квадратов его координат. Функция length для отрезка вычисляет длину отрезка как длину вектора между его началом и концом."
   ]
  },
  {
   "cell_type": "markdown",
   "id": "0c88406e",
   "metadata": {},
   "source": [
    "2. Написать функцию, проверяющую, лежат ли две заданные точки по одну сторону от заданной прямой (прямая задается некоторым содержащимся в ней отрезком). "
   ]
  },
  {
   "cell_type": "code",
   "execution_count": 18,
   "id": "40f9366d",
   "metadata": {},
   "outputs": [
    {
     "data": {
      "text/plain": [
       "same_side_of_line (generic function with 1 method)"
      ]
     },
     "execution_count": 18,
     "metadata": {},
     "output_type": "execute_result"
    }
   ],
   "source": [
    "function same_side_of_line(p1::Vector2D, p2::Vector2D, s::Segment2D)\n",
    "    a = s.stop.y - s.start.y\n",
    "    b = s.start.x - s.stop.x\n",
    "    c = s.start.x * s.stop.y - s.stop.x * s.start.y\n",
    "    return (a * p1.x + b * p1.y + c) * (a * p2.x + b * p2.y + c) > 0\n",
    "end"
   ]
  },
  {
   "cell_type": "markdown",
   "id": "aec5c904",
   "metadata": {},
   "source": [
    "Эта функция принимает три аргумента: две точки p1 и p2 типа Vector2D и отрезок s типа Segment2D, который задает прямую. Функция вычисляет коэффициенты a, b и c уравнения прямой вида ax + by + c = 0, проходящей через начало и конец отрезка. Затем функция вычисляет значения этого уравнения для точек p1 и p2 и проверяет, имеют ли они одинаковый знак. Если значения имеют одинаковый знак, то точки лежат по одну сторону от прямой, и функция возвращает true. В противном случае функция возвращает false."
   ]
  },
  {
   "cell_type": "markdown",
   "id": "2ab157ed",
   "metadata": {},
   "source": [
    "3. Написать функцию, проверяющую, лежат ли две заданные точки по одну сторону от заданной кривой (кривая задается уравнением вида $F(x,y)=0$). "
   ]
  },
  {
   "cell_type": "code",
   "execution_count": 19,
   "id": "b79b6baf",
   "metadata": {},
   "outputs": [
    {
     "data": {
      "text/plain": [
       "same_side_of_curve (generic function with 1 method)"
      ]
     },
     "execution_count": 19,
     "metadata": {},
     "output_type": "execute_result"
    }
   ],
   "source": [
    "function same_side_of_curve(p1::Vector2D, p2::Vector2D, f::Function)\n",
    "    return f(p1.x, p1.y) * f(p2.x, p2.y) > 0\n",
    "end"
   ]
  },
  {
   "cell_type": "markdown",
   "id": "0424cd0f",
   "metadata": {},
   "source": [
    "Эта функция принимает три аргумента: две точки p1 и p2 типа Vector2D и функцию f, которая задает кривую уравнением вида F(x,y)=0. Функция вычисляет значения функции f для точек p1 и p2 и проверяет, имеют ли они одинаковый знак. Если значения имеют одинаковый знак, то точки лежат по одну сторону от кривой, и функция возвращает true. В противном случае функция возвращает false."
   ]
  },
  {
   "cell_type": "markdown",
   "id": "fbaab0d5",
   "metadata": {},
   "source": [
    "4. Написать функцию, возвращающую точку пересечения (если она существует) двух заданных отрезков."
   ]
  },
  {
   "cell_type": "code",
   "execution_count": 20,
   "id": "5343bda0",
   "metadata": {},
   "outputs": [
    {
     "data": {
      "text/plain": [
       "intersection (generic function with 1 method)"
      ]
     },
     "execution_count": 20,
     "metadata": {},
     "output_type": "execute_result"
    }
   ],
   "source": [
    "function intersection(s1::Segment2D, s2::Segment2D)\n",
    "    x1, y1 = s1.start.x, s1.start.y\n",
    "    x2, y2 = s1.stop.x, s1.stop.y\n",
    "    x3, y3 = s2.start.x, s2.start.y\n",
    "    x4, y4 = s2.stop.x, s2.stop.y\n",
    "\n",
    "    det = (x1 - x2) * (y3 - y4) - (y1 - y2) * (x3 - x4)\n",
    "    if det == 0\n",
    "        return nothing\n",
    "    end\n",
    "\n",
    "    px = ((x1 * y2 - y1 * x2) * (x3 - x4) - (x1 - x2) * (x3 * y4 - y3 * x4)) / det\n",
    "    py = ((x1 * y2 - y1 * x2) * (y3 - y4) - (y1 - y2) * (x3 * y4 - y3 * x4)) / det\n",
    "\n",
    "    if px < min(x1, x2) || px > max(x1, x2) || px < min(x3, x4) || px > max(x3, x4)\n",
    "        return nothing\n",
    "    end\n",
    "\n",
    "    return Vector2D(px, py)\n",
    "end"
   ]
  },
  {
   "cell_type": "markdown",
   "id": "eb4f6d7f",
   "metadata": {},
   "source": [
    "Эта функция принимает два аргумента: два отрезка s1 и s2 типа Segment2D. Функция вычисляет координаты начала и конца каждого отрезка и затем вычисляет определитель матрицы системы уравнений прямых, проходящих через эти отрезки. Если определитель равен нулю, то прямые параллельны и не имеют точки пересечения, и функция возвращает nothing.\n",
    "\n",
    "Если определитель не равен нулю, то функция вычисляет координаты точки пересечения прямых и проверяет, лежит ли эта точка внутри обоих отрезков. Если точка лежит внутри обоих отрезков, то функция возвращает эту точку как объект типа Vector2D. В противном случае функция возвращает nothing."
   ]
  },
  {
   "cell_type": "markdown",
   "id": "4fbe89cb",
   "metadata": {},
   "source": [
    "5. Написать функцию, проверяющую лежит ли заданная точка внутри заданного многоугольника. "
   ]
  },
  {
   "cell_type": "code",
   "execution_count": 21,
   "id": "75bf387c",
   "metadata": {},
   "outputs": [
    {
     "data": {
      "text/plain": [
       "inside_polygon (generic function with 1 method)"
      ]
     },
     "execution_count": 21,
     "metadata": {},
     "output_type": "execute_result"
    }
   ],
   "source": [
    "function inside_polygon(p::Vector2D, poly::Vector{Vector2D})\n",
    "    n = length(poly)\n",
    "    c = false\n",
    "    for i in 1:n\n",
    "        j = i % n + 1\n",
    "        if ((poly[i].y > p.y) != (poly[j].y > p.y)) && (p.x < (poly[j].x - poly[i].x) * (p.y - poly[i].y) / (poly[j].y - poly[i].y) + poly[i].x)\n",
    "            c = !c\n",
    "        end\n",
    "    end\n",
    "    return c\n",
    "end"
   ]
  },
  {
   "cell_type": "markdown",
   "id": "e15a1c86",
   "metadata": {},
   "source": [
    "Эта функция принимает два аргумента: точку p типа Vector2D и многоугольник poly, представленный вектором вершин типа Vector{Vector2D}. Функция использует алгоритм трассировки луча для определения положения точки относительно многоугольника. Функция инициализирует переменную c значением false и затем перебирает все ребра многоугольника. Для каждого ребра функция проверяет, пересекает ли горизонтальный луч, исходящий из точки p вправо, это ребро. Если луч пересекает ребро, то функция инвертирует значение переменной c. В конце функция возвращает значение переменной c, которое равно true, если точка лежит внутри многоугольника, и false в противном случае."
   ]
  }
 ],
 "metadata": {
  "kernelspec": {
   "display_name": "Julia 1.8.3",
   "language": "julia",
   "name": "julia-1.8"
  },
  "language_info": {
   "file_extension": ".jl",
   "mimetype": "application/julia",
   "name": "julia",
   "version": "1.8.3"
  }
 },
 "nbformat": 4,
 "nbformat_minor": 5
}
