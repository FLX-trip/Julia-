{
 "cells": [
  {
   "cell_type": "markdown",
   "id": "1e99b4f7",
   "metadata": {},
   "source": [
    "Практика 7"
   ]
  },
  {
   "cell_type": "markdown",
   "id": "59a8d477",
   "metadata": {},
   "source": [
    "Пункт 1:"
   ]
  },
  {
   "cell_type": "code",
   "execution_count": 1,
   "id": "a3be44e6",
   "metadata": {},
   "outputs": [
    {
     "data": {
      "text/plain": [
       "next_repit_plasement! (generic function with 1 method)"
      ]
     },
     "execution_count": 1,
     "metadata": {},
     "output_type": "execute_result"
    }
   ],
   "source": [
    "# Генерация всех размещений с повторениями\n",
    "function next_repit_plasement!(p::Vector{T}, n::T) where T<:Integer\n",
    "    i = findlast(x->(x < n), p)\n",
    "    isnothing(i) && (return nothing)\n",
    "    p[i] += 1\n",
    "    p[i+1:end] .= 1 \n",
    "    return p\n",
    "end"
   ]
  },
  {
   "cell_type": "markdown",
   "id": "9e2934f4",
   "metadata": {},
   "source": [
    "Пункт 2:"
   ]
  },
  {
   "cell_type": "code",
   "execution_count": 2,
   "id": "4ce32a66",
   "metadata": {},
   "outputs": [
    {
     "data": {
      "text/plain": [
       "next_permutation! (generic function with 1 method)"
      ]
     },
     "execution_count": 2,
     "metadata": {},
     "output_type": "execute_result"
    }
   ],
   "source": [
    "# Генерация всех перестановок\n",
    "function next_permutation!(p::AbstractVector)\n",
    "    n = length(p)\n",
    "    k = 0 \n",
    "    for i in reverse(1:n-1) \n",
    "        reverse(firstindex(p):lastindex(p)-1)\n",
    "        if p[i] < p[i+1]\n",
    "             k=i\n",
    "             break\n",
    "         end\n",
    "    end\n",
    "\n",
    "    k == firstindex(p)-1 && return nothing \n",
    "    i=k+1\n",
    "    while i<n && p[i+1]>p[k] \n",
    "        p[k]\n",
    "        i += 1\n",
    "    end\n",
    "\n",
    "    p[k], p[i] = p[i], p[k]\n",
    "    reverse!(@view p[k+1:end])\n",
    "    return p\n",
    "\n",
    "end"
   ]
  },
  {
   "cell_type": "markdown",
   "id": "0b9b3440",
   "metadata": {},
   "source": [
    "Пункт 3:"
   ]
  },
  {
   "cell_type": "code",
   "execution_count": 3,
   "id": "5d2d60d7",
   "metadata": {},
   "outputs": [
    {
     "data": {
      "text/plain": [
       "next_indicator! (generic function with 1 method)"
      ]
     },
     "execution_count": 3,
     "metadata": {},
     "output_type": "execute_result"
    }
   ],
   "source": [
    "# Генерация всех подмножеств\n",
    "function next_indicator!(indicator::AbstractVector{Bool})\n",
    "    i = findlast(x->(x==0), indicator)\n",
    "    isnothing(i) && return nothing\n",
    "    indicator[i] = 1\n",
    "    indicator[i+1:end] .= 0\n",
    "    return indicator \n",
    "end"
   ]
  },
  {
   "cell_type": "markdown",
   "id": "0251ff49",
   "metadata": {},
   "source": [
    "Пункт 4:"
   ]
  },
  {
   "cell_type": "code",
   "execution_count": 4,
   "id": "fec2b8a7",
   "metadata": {},
   "outputs": [
    {
     "data": {
      "text/plain": [
       "next_indicator! (generic function with 2 methods)"
      ]
     },
     "execution_count": 4,
     "metadata": {},
     "output_type": "execute_result"
    }
   ],
   "source": [
    "# Генерация всех k-элементных подмножеств\n",
    "function next_indicator!(indicator::AbstractVector{Bool}, k)\n",
    "    @assert(k <= n)\n",
    "    i = lastindex(indicator)\n",
    "    while indicator[i] == 0\n",
    "        i -= 1\n",
    "    end\n",
    "    m = 0 \n",
    "    while i >= firstindex(indicator) && indicator[i] == 1 \n",
    "        m += 1\n",
    "        i -= 1\n",
    "    end\n",
    "    if i < firstindex(indicator)\n",
    "        return nothing\n",
    "    end\n",
    "    indicator[i] = 1\n",
    "    indicator[i + 1:end] .= 0\n",
    "    indicator[lastindex(indicator) - m + 2:end] .= 1\n",
    "    return indicator \n",
    "end"
   ]
  },
  {
   "cell_type": "markdown",
   "id": "7f6f5c45",
   "metadata": {},
   "source": [
    "Пункт 5:"
   ]
  },
  {
   "cell_type": "code",
   "execution_count": 5,
   "id": "527bc1ad",
   "metadata": {},
   "outputs": [
    {
     "data": {
      "text/plain": [
       "next_split! (generic function with 1 method)"
      ]
     },
     "execution_count": 5,
     "metadata": {},
     "output_type": "execute_result"
    }
   ],
   "source": [
    "# Генерация всех разбиений натурального числа\n",
    "function next_split!(s ::AbstractVector{Int64}, k)\n",
    "    k == 1 && return (nothing, 0)\n",
    "    i = k-1 \n",
    "    while i > 1 && s[i-1]>=s[i]\n",
    "        i -= 1\n",
    "    end\n",
    "    s[i] += 1\n",
    "    r = sum(@view(s[i+1:k]))\n",
    "    k = i+r-1\n",
    "    s[(i+1):(length(s)-k)] .= 1\n",
    "    return s, k\n",
    "end"
   ]
  }
 ],
 "metadata": {
  "kernelspec": {
   "display_name": "Julia 1.8.3",
   "language": "julia",
   "name": "julia-1.8"
  },
  "language_info": {
   "file_extension": ".jl",
   "mimetype": "application/julia",
   "name": "julia",
   "version": "1.8.3"
  }
 },
 "nbformat": 4,
 "nbformat_minor": 5
}
