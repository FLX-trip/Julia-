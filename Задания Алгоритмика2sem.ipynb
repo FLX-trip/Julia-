{
 "cells": [
  {
   "cell_type": "markdown",
   "id": "ca7dbb16",
   "metadata": {},
   "source": [
    "# Практика 1\n",
    "1. Написать функцию, вычисляющую НОД двух чисел (или многочленов)"
   ]
  },
  {
   "cell_type": "code",
   "execution_count": 1,
   "id": "c0f52102",
   "metadata": {},
   "outputs": [
    {
     "data": {
      "text/plain": [
       "gcd_ (generic function with 1 method)"
      ]
     },
     "execution_count": 1,
     "metadata": {},
     "output_type": "execute_result"
    }
   ],
   "source": [
    "function gcd_(a::T, b::T) where T # - это означает, что тип обоих аргументов один и тот же\n",
    "    # a0, b0 = a, b\n",
    "    #ИНВАРИАНТ: НОД(a,b) = HОД(a0,b0)\n",
    "    while !iszero(b) # - это условие более универсальное, чем b != 0 или b > 0. Функция iszero определена для всех числовых типов. Для пользовательских типов ее надо будет определять\n",
    "        a, b = b, rem(a,b) # rem(a,b) - это то же самое, что и a % b (есть еще функция mod(a,b))\n",
    "    end\n",
    "    return abs(a) # т.к. используется функция rem, то a может получиться отризательным\n",
    "end"
   ]
  },
  {
   "cell_type": "markdown",
   "id": "fbf499c0",
   "metadata": {},
   "source": [
    "2. Написать функцию, реализующую расширенный алгоритм Евклида, вычисляющий не только НОД, но и коэффициенты его линейного представления.\n",
    "**Утверждение.** Пусть d=НОД(a, b), тогда существуют такие целые коэффициенты u, v, что d=u*a+v*b"
   ]
  },
  {
   "cell_type": "markdown",
   "id": "cbb4ab38",
   "metadata": {},
   "source": [
    "Мы спроектируем расширенный алгоритм Евклида с помощью инварианта цикла, и тем самым будет доказаго это утверждение.\n",
    "\n",
    "Инвариантом цикла (с передусловием) называется некотрое утверждение относительно переменных, изменяющихся в цикле, которое справедливо как перед началом выполнения цикла, так и после любого числа его повторений.\n",
    "\n",
    "В данном случае в качестве инварианта цикла возьмём утверждение "
   ]
  },
  {
   "cell_type": "code",
   "execution_count": 2,
   "id": "fdbddf9c",
   "metadata": {},
   "outputs": [
    {
     "data": {
      "text/plain": [
       "isnegative (generic function with 1 method)"
      ]
     },
     "execution_count": 2,
     "metadata": {},
     "output_type": "execute_result"
    }
   ],
   "source": [
    "function gcdx_(a::T, b::T) where T # - это означает, что тип обоих аргументов один и тот же\n",
    "    # a0, b0 = a, b\n",
    "    u, v = one(T), zero(T) # - универсальнее, чем 1, 0 и гарантирует стабильность типов переменных\n",
    "    u_, v_ = v, u\n",
    "    #ИНВАРИАНТ: НОД(a,b) = HОД(a0,b0) && a = u*a0 + v*b0 && b = u_*a0 + v_ * b0\n",
    "    while !iszero(b) # - это условие более универсальное, чем b != 0 или b > 0. Функция iszero определена для всех числовых типов. Для пользовательских типов ее надо будет определять\n",
    "        r, k = remdiv(a,b) # remdiv(a,b) возвращает кортеж из rem(a,b) и div(a,b)\n",
    "        a, b = b, r #  r = a - k*b\n",
    "        u, u_ = u_, u-k*u_ # эти преобразования переменных следуют из инварианта цикла\n",
    "        v, v_ = v_, v-k*v_\n",
    "    end\n",
    "    if isnegarive(a) #  использование функции isnegative делает данный алгоритм более универсальным, но эту функцию требуется определить, в том числе и для целых типов\n",
    "        a, u, v = -a, -u, -v\n",
    "    end\n",
    "    return a, u, v \n",
    "end\n",
    "\n",
    "isnegative(a::Integer) = (a < 0)"
   ]
  },
  {
   "cell_type": "markdown",
   "id": "c85274a4",
   "metadata": {},
   "source": [
    "3. С использованием функции gcdx_ реаализовать функцию invmod_(a::T, M::T) where T, которая бы возвращала бы обратное значение инвертируемого элемента (a) кольца вычетов по модулю M, а для необращаемых элементов возвращала бы nothing.\n",
    "\n",
    "(если положить M=b  и если d = ua+vb, то при условии, что d=1, a^-1 = u, в противном случае элемент a не обратим)"
   ]
  },
  {
   "cell_type": "code",
   "execution_count": 4,
   "id": "abe62306",
   "metadata": {},
   "outputs": [
    {
     "data": {
      "text/plain": [
       "invmod_ (generic function with 1 method)"
      ]
     },
     "execution_count": 4,
     "metadata": {},
     "output_type": "execute_result"
    }
   ],
   "source": [
    "function invmod_(a::T, M::T) where T\n",
    "    g, u, v = gcdx_(a, M)\n",
    "    if g == 1\n",
    "        return mod(u, M)\n",
    "    else\n",
    "        return nothing\n",
    "    end\n",
    "end"
   ]
  },
  {
   "cell_type": "markdown",
   "id": "2b8a9304",
   "metadata": {},
   "source": [
    "Эта функция возвращает обратное значение инвертируемого элемента a кольца вычетов по модулю M, а для необращаемых элементов возвращает nothing. Она использует функцию gcdx_ для вычисления расширенного алгоритма Евклида и проверяет, равно ли g единице. Если это так, то она возвращает u по модулю M, иначе возвращает nothing.\n",
    "\n",
    "Получено сообщение. Вот код на Julia 1.8.3, который реализует функцию `invmod_` с использованием функции `gcdx_`: ```julia function invmod_(a::T, M::T) where T g, u, v = gcdx_(a, M) if g == 1 return mod(u, M) else return nothing end end ``` Эта функция возвращает обратное значение инвертируемого элемента `a` кольца вычетов по модулю `M`, а для необращаемых элементов возвращает `nothing`. Она использует функцию `gcdx_` для вычисления расширенного алгоритма Евклида и проверяет, равно ли `g` единице. Если это так, то она возвращает `u` по модулю `M`, иначе возвращает `nothing`."
   ]
  },
  {
   "cell_type": "markdown",
   "id": "765682fc",
   "metadata": {},
   "source": [
    "4. С использованием функции gcdx_ реализовать функцию diaphant_solve(a::T,b::T,c::T) where T, которая бы возвращала решение дафаетового уравнения ax+by=c, если уравнение разрешимо, и значение nothing - в противном случае\n",
    "   \n",
    "(если d=ua+vb, и если получилость, что d=1, u, v - есть решение уравнения, в противном случае уранение не разрешимо)"
   ]
  },
  {
   "cell_type": "code",
   "execution_count": 5,
   "id": "cd784997",
   "metadata": {},
   "outputs": [
    {
     "data": {
      "text/plain": [
       "diaphant_solve (generic function with 1 method)"
      ]
     },
     "execution_count": 5,
     "metadata": {},
     "output_type": "execute_result"
    }
   ],
   "source": [
    "function diaphant_solve(a::T,b::T,c::T) where T\n",
    "    g, u, v = gcdx_(a, b)\n",
    "    if c % g == 0\n",
    "        x = u * c ÷ g\n",
    "        y = v * c ÷ g\n",
    "        return x, y\n",
    "    else\n",
    "        return nothing\n",
    "    end\n",
    "end"
   ]
  },
  {
   "cell_type": "markdown",
   "id": "bc74b6d6",
   "metadata": {},
   "source": [
    "Эта функция возвращает решение диофантового уравнения ax + by = c, если уравнение разрешимо, и значение nothing в противном случае. Она использует функцию gcdx_ для вычисления расширенного алгоритма Евклида и проверяет, делится ли c на g. Если это так, то она вычисляет значения x и y и возвращает их как кортеж. В противном случае она возвращает nothing."
   ]
  },
  {
   "cell_type": "markdown",
   "id": "ea66704d",
   "metadata": {},
   "source": [
    "# Практика 2\n",
    "\n",
    "1. Написать обобщенную функцию, реализующую алгоритм быстрого возведения в степень"
   ]
  },
  {
   "cell_type": "code",
   "execution_count": null,
   "id": "2238cc18",
   "metadata": {},
   "outputs": [],
   "source": [
    "function pow(a, n::Integer)\n",
    "    k, t, p = n, 1, a\n",
    "    while k>0\n",
    "        if (k%2 == 0)\n",
    "            k÷=2\n",
    "            p*=p\n",
    "        else\n",
    "            k-=1\n",
    "            t*=p\n",
    "        end   \n",
    "    end\n",
    "return t\n",
    "end\n"
   ]
  },
  {
   "cell_type": "markdown",
   "id": "6628ff88",
   "metadata": {},
   "source": [
    "2. На база этой функции написать другую функцию, возвращающую n-ый член последовательности Фибоначчи (сложность - O(log n))."
   ]
  },
  {
   "cell_type": "code",
   "execution_count": 1,
   "id": "34d67230",
   "metadata": {},
   "outputs": [
    {
     "data": {
      "text/plain": [
       "fibonacci (generic function with 1 method)"
      ]
     },
     "execution_count": 1,
     "metadata": {},
     "output_type": "execute_result"
    }
   ],
   "source": [
    "function fibonacci(n::Integer)\n",
    "    a,b,c=1,1,1\n",
    "    rc,d,rd = 0,0,1\n",
    "    while (n>0)\n",
    "        if (n%2!=0)\n",
    "            tc = rc\n",
    "            rc = rc*a + rd*c\n",
    "            rd = tc*b + rd*d\n",
    "        end\n",
    "        ta,tb,tc=a,b,c\n",
    "        a = a*a  + b*c\n",
    "        b = ta*b + b*d\n",
    "        c = c*ta + d*c\n",
    "        d = tc*tb+ d*d\n",
    "        n >>= 1\n",
    "    end\n",
    "    return rc\n",
    "end"
   ]
  },
  {
   "cell_type": "markdown",
   "id": "c606e24e",
   "metadata": {},
   "source": [
    "3. Написать функцию, вычисляющую с заданной точностью $\\log_a x$ (при произвольном $a$, не обязательно, что $a>1$), методом рассмотренном на лекции (описание этого метода можно найти также в книке Борисенко \"Основы программирования\" - она выложена в нашей группе в телеграм)."
   ]
  },
  {
   "cell_type": "code",
   "execution_count": null,
   "id": "f319eb0d",
   "metadata": {},
   "outputs": [],
   "source": []
  },
  {
   "cell_type": "markdown",
   "id": "e483dddf",
   "metadata": {},
   "source": [
    "4. Написать функцию, реализующую приближенное решение уравнения вида $f(x)=0$ методом деления отрезка пополам (описание метода см. ниже)."
   ]
  },
  {
   "cell_type": "code",
   "execution_count": 2,
   "id": "a1d283e6",
   "metadata": {},
   "outputs": [
    {
     "data": {
      "text/plain": [
       "bisection (generic function with 1 method)"
      ]
     },
     "execution_count": 2,
     "metadata": {},
     "output_type": "execute_result"
    }
   ],
   "source": [
    "function bisection(f, a::T, b::T, tol::T) where T\n",
    "    @assert f(a) * f(b) < 0\n",
    "    while (b - a) / 2 > tol\n",
    "        c = (a + b) / 2\n",
    "        if f(c) == 0\n",
    "            return c\n",
    "        elseif f(a) * f(c) < 0\n",
    "            b = c\n",
    "        else\n",
    "            a = c\n",
    "        end\n",
    "    end\n",
    "    return (a + b) / 2\n",
    "end"
   ]
  },
  {
   "cell_type": "markdown",
   "id": "119df26b",
   "metadata": {},
   "source": [
    "# Практика 3\n",
    "1. Написать функцию, осуществлющую проверку, является ли заданное целое число простым; оценка сложности должна быть O√(n)."
   ]
  },
  {
   "cell_type": "code",
   "execution_count": 3,
   "id": "d74cbfc4",
   "metadata": {},
   "outputs": [
    {
     "data": {
      "text/plain": [
       "isprime (generic function with 1 method)"
      ]
     },
     "execution_count": 3,
     "metadata": {},
     "output_type": "execute_result"
    }
   ],
   "source": [
    "function isprime(n::T) where T\n",
    "    if n <= 1\n",
    "        return false\n",
    "    end\n",
    "    for i in 2:isqrt(n)\n",
    "        if n % i == 0\n",
    "            return false\n",
    "        end\n",
    "    end\n",
    "    return true\n",
    "end"
   ]
  },
  {
   "cell_type": "markdown",
   "id": "0c4a49b2",
   "metadata": {},
   "source": [
    "Эта функция принимает в качестве аргумента целое число n и возвращает true, если число является простым, и false в противном случае. Она использует простой алгоритм перебора делителей от 2 до isqrt(n), чтобы проверить, имеет ли число делители. Сложность этого алгоритма составляет O(√n)."
   ]
  },
  {
   "cell_type": "markdown",
   "id": "8f810cdb",
   "metadata": {},
   "source": [
    "2. Написать функцию, реализующую \"решето\" Эратосфена, т.е. возвращающую ветор всех простых чисел, не превосходящих заданное число n."
   ]
  },
  {
   "cell_type": "code",
   "execution_count": 4,
   "id": "117f47aa",
   "metadata": {},
   "outputs": [
    {
     "data": {
      "text/plain": [
       "sieve (generic function with 1 method)"
      ]
     },
     "execution_count": 4,
     "metadata": {},
     "output_type": "execute_result"
    }
   ],
   "source": [
    "function sieve(n::T) where T\n",
    "    isprime = trues(n)\n",
    "    isprime[1] = false\n",
    "    for i in 2:isqrt(n)\n",
    "        if isprime[i]\n",
    "            for j in i^2:i:n\n",
    "                isprime[j] = false\n",
    "            end\n",
    "        end\n",
    "    end\n",
    "    return findall(isprime)\n",
    "end"
   ]
  },
  {
   "cell_type": "markdown",
   "id": "d2dad21c",
   "metadata": {},
   "source": [
    "Эта функция принимает в качестве аргумента целое число n и возвращает вектор всех простых чисел, не превосходящих n. Она использует алгоритм “решето” Эратосфена для нахождения всех простых чисел до n. Сначала она создает логический массив isprime размером n, где все элементы инициализируются как true, кроме первого элемента, который инициализируется как false. Затем она перебирает все числа от 2 до isqrt(n) и для каждого простого числа обнуляет все его кратные в массиве isprime. В конце функция возвращает индексы всех элементов массива isprime, которые равны true, с помощью функции findall."
   ]
  },
  {
   "cell_type": "markdown",
   "id": "78ec8d99",
   "metadata": {},
   "source": [
    "3. Написать функцию, осуществляющую разложение заданное целое число на степени его простых делителей."
   ]
  },
  {
   "cell_type": "code",
   "execution_count": 5,
   "id": "675dcb76",
   "metadata": {},
   "outputs": [
    {
     "data": {
      "text/plain": [
       "prime_factors (generic function with 1 method)"
      ]
     },
     "execution_count": 5,
     "metadata": {},
     "output_type": "execute_result"
    }
   ],
   "source": [
    "function prime_factors(n::T) where T\n",
    "    factors = Dict{T, T}()\n",
    "    i = 2\n",
    "    while i * i <= n\n",
    "        while n % i == 0\n",
    "            if haskey(factors, i)\n",
    "                factors[i] += 1\n",
    "            else\n",
    "                factors[i] = 1\n",
    "            end\n",
    "            n = div(n, i)\n",
    "        end\n",
    "        i += 1\n",
    "    end\n",
    "    if n > 1\n",
    "        factors[n] = 1\n",
    "    end\n",
    "    return factors\n",
    "end"
   ]
  },
  {
   "cell_type": "markdown",
   "id": "1063ef80",
   "metadata": {},
   "source": [
    "Эта функция принимает в качестве аргумента целое число n и возвращает словарь, где ключи являются простыми делителями числа n, а значения - соответствующими степенями этих делителей в разложении числа n. Она использует простой алгоритм перебора делителей для нахождения всех простых делителей числа n и их степеней. Для каждого найденного простого делителя она добавляет его в словарь factors и увеличивает соответствующее значение на единицу. В конце функция возвращает словарь factors."
   ]
  },
  {
   "cell_type": "markdown",
   "id": "b3325529",
   "metadata": {},
   "source": [
    "4. Реализовать функцию, осуществляющую вычисление сренего квадратического отклонения (от среднего значения) заданного числового массива за один проход этого массива."
   ]
  },
  {
   "cell_type": "code",
   "execution_count": 6,
   "id": "9feb997d",
   "metadata": {},
   "outputs": [
    {
     "data": {
      "text/plain": [
       "std_dev (generic function with 1 method)"
      ]
     },
     "execution_count": 6,
     "metadata": {},
     "output_type": "execute_result"
    }
   ],
   "source": [
    "function std_dev(arr::Vector{T}) where T\n",
    "    n = length(arr)\n",
    "    mean = sum(arr) / n\n",
    "    sum_sq_diff = sum((x - mean)^2 for x in arr)\n",
    "    return sqrt(sum_sq_diff / n)\n",
    "end"
   ]
  },
  {
   "cell_type": "markdown",
   "id": "9ad91233",
   "metadata": {},
   "source": [
    "Эта функция принимает в качестве аргумента числовой массив arr и возвращает среднеквадратическое отклонение элементов этого массива от их среднего значения. Она вычисляет среднее значение элементов массива как сумму всех элементов, деленную на их количество. Затем она вычисляет сумму квадратов разностей между каждым элементом массива и его средним значением. В конце функция возвращает квадратный корень из отношения этой суммы к количеству элементов в массиве."
   ]
  },
  {
   "cell_type": "markdown",
   "id": "645f7463",
   "metadata": {},
   "source": [
    "# Практика 4\n",
    "1. Написать функцию, вычисляющую n-ю частичную сумму ряда Тейлора (Маклорена) функции exp(x) для произвольно заданного значения аргумента x. Сложность алгоритма должна иметь оценку O(n)."
   ]
  },
  {
   "cell_type": "code",
   "execution_count": 7,
   "id": "9e3cfa11",
   "metadata": {},
   "outputs": [
    {
     "data": {
      "text/plain": [
       "taylor_exp (generic function with 1 method)"
      ]
     },
     "execution_count": 7,
     "metadata": {},
     "output_type": "execute_result"
    }
   ],
   "source": [
    "function taylor_exp(x::T, n::Int) where T\n",
    "    result = 1\n",
    "    term = 1\n",
    "    for i in 1:n\n",
    "        term *= x / i\n",
    "        result += term\n",
    "    end\n",
    "    return result\n",
    "end"
   ]
  },
  {
   "cell_type": "markdown",
   "id": "06661c07",
   "metadata": {},
   "source": [
    "Эта функция принимает в качестве аргументов значение аргумента x и количество членов ряда n и возвращает n-ю частичную сумму ряда Тейлора (Маклорена) функции exp(x). Она использует простой алгоритм для вычисления каждого члена ряда и накопления суммы. Сложность этого алгоритма составляет O(n)."
   ]
  },
  {
   "cell_type": "markdown",
   "id": "42d21cc0",
   "metadata": {},
   "source": [
    "2. Написать функцию, вычиляющую значение exp(x) с машинной точностью (с максимально возможной в арифметике с плавающей точкой)."
   ]
  },
  {
   "cell_type": "code",
   "execution_count": 8,
   "id": "0d24a882",
   "metadata": {},
   "outputs": [
    {
     "data": {
      "text/plain": [
       "exp_machine_precision (generic function with 1 method)"
      ]
     },
     "execution_count": 8,
     "metadata": {},
     "output_type": "execute_result"
    }
   ],
   "source": [
    "function exp_machine_precision(x::T) where T\n",
    "    result = 1\n",
    "    term = 1\n",
    "    i = 1\n",
    "    while term != 0\n",
    "        term *= x / i\n",
    "        result += term\n",
    "        i += 1\n",
    "    end\n",
    "    return result\n",
    "end"
   ]
  },
  {
   "cell_type": "markdown",
   "id": "936b1086",
   "metadata": {},
   "source": [
    "Эта функция принимает в качестве аргумента значение аргумента x и возвращает значение exp(x) с машинной точностью. Она использует алгоритм для вычисления каждого члена ряда Тейлора (Маклорена) функции exp(x) и накопления суммы до тех пор, пока очередной член ряда не станет равным нулю в арифметике с плавающей точкой. Таким образом, функция возвращает значение exp(x) с максимально возможной точностью в арифметике с плавающей точкой."
   ]
  },
  {
   "cell_type": "markdown",
   "id": "4e8f237a",
   "metadata": {},
   "source": [
    "3. Написать функцию, вычисляющую функцию Бесселя заданного целого неотрицательного порядка по ее ряду Тейлора с машинной точностью. Для этого сначала вывести соответствующую рекуррентную формулу, обеспечивающую возможность эффективного вычисления. Построить семейство графиков этих функций для нескольких порядков, начиная с нулевого порядка."
   ]
  },
  {
   "cell_type": "code",
   "execution_count": 22,
   "id": "eed90783",
   "metadata": {},
   "outputs": [
    {
     "name": "stderr",
     "output_type": "stream",
     "text": [
      "\u001b[32m\u001b[1m    Updating\u001b[22m\u001b[39m registry at `C:\\Users\\god40.DESKTOP-1OM2E86\\.julia\\registries\\General.toml`\n",
      "\u001b[32m\u001b[1m   Resolving\u001b[22m\u001b[39m package versions...\n",
      "\u001b[32m\u001b[1m   Installed\u001b[22m\u001b[39m GR_jll ────────────── v0.72.7+0\n",
      "\u001b[32m\u001b[1m   Installed\u001b[22m\u001b[39m PlotUtils ─────────── v1.3.5\n",
      "\u001b[32m\u001b[1m   Installed\u001b[22m\u001b[39m RecipesPipeline ───── v0.6.12\n",
      "\u001b[32m\u001b[1m   Installed\u001b[22m\u001b[39m ConcurrentUtilities ─ v2.2.0\n",
      "\u001b[32m\u001b[1m   Installed\u001b[22m\u001b[39m OpenSSL ───────────── v1.4.1\n",
      "\u001b[32m\u001b[1m   Installed\u001b[22m\u001b[39m Unitful ───────────── v1.14.0\n",
      "\u001b[32m\u001b[1m   Installed\u001b[22m\u001b[39m HTTP ──────────────── v1.9.7\n",
      "\u001b[32m\u001b[1m   Installed\u001b[22m\u001b[39m SpecialFunctions ──── v2.3.0\n",
      "\u001b[32m\u001b[1m   Installed\u001b[22m\u001b[39m StatsAPI ──────────── v1.6.0\n",
      "\u001b[32m\u001b[1m   Installed\u001b[22m\u001b[39m Compat ────────────── v4.7.0\n",
      "\u001b[32m\u001b[1m   Installed\u001b[22m\u001b[39m StatsBase ─────────── v0.34.0\n",
      "\u001b[32m\u001b[1m   Installed\u001b[22m\u001b[39m TranscodingStreams ── v0.9.13\n",
      "\u001b[32m\u001b[1m   Installed\u001b[22m\u001b[39m ExceptionUnwrapping ─ v0.1.9\n",
      "\u001b[32m\u001b[1m   Installed\u001b[22m\u001b[39m Scratch ───────────── v1.2.0\n",
      "\u001b[32m\u001b[1m   Installed\u001b[22m\u001b[39m Zstd_jll ──────────── v1.5.5+0\n",
      "\u001b[32m\u001b[1m   Installed\u001b[22m\u001b[39m Expat_jll ─────────── v2.5.0+0\n",
      "\u001b[32m\u001b[1m   Installed\u001b[22m\u001b[39m ChainRulesCore ────── v1.16.0\n",
      "\u001b[32m\u001b[1m   Installed\u001b[22m\u001b[39m Plots ─────────────── v1.38.16\n",
      "\u001b[32m\u001b[1m   Installed\u001b[22m\u001b[39m InverseFunctions ──── v0.1.9\n",
      "\u001b[32m\u001b[1m   Installed\u001b[22m\u001b[39m ConstructionBase ──── v1.5.2\n",
      "\u001b[32m\u001b[1m   Installed\u001b[22m\u001b[39m LogExpFunctions ───── v0.3.24\n",
      "\u001b[32m\u001b[1m   Installed\u001b[22m\u001b[39m ColorSchemes ──────── v3.21.0\n",
      "\u001b[32m\u001b[1m   Installed\u001b[22m\u001b[39m Pixman_jll ────────── v0.42.2+0\n",
      "\u001b[32m\u001b[1m   Installed\u001b[22m\u001b[39m OpenSSL_jll ───────── v1.1.21+0\n",
      "\u001b[32m\u001b[1m   Installed\u001b[22m\u001b[39m LLVMOpenMP_jll ────── v15.0.4+0\n",
      "\u001b[32m\u001b[1m   Installed\u001b[22m\u001b[39m DataAPI ───────────── v1.15.0\n",
      "\u001b[32m\u001b[1m   Installed\u001b[22m\u001b[39m Latexify ──────────── v0.16.1\n",
      "\u001b[32m\u001b[1m   Installed\u001b[22m\u001b[39m RecipesBase ───────── v1.3.4\n",
      "\u001b[32m\u001b[1m   Installed\u001b[22m\u001b[39m PrecompileTools ───── v1.1.2\n",
      "\u001b[32m\u001b[1m   Installed\u001b[22m\u001b[39m SortingAlgorithms ─── v1.1.1\n",
      "\u001b[32m\u001b[1m   Installed\u001b[22m\u001b[39m ChangesOfVariables ── v0.1.7\n",
      "\u001b[32m\u001b[1m   Installed\u001b[22m\u001b[39m UnitfulLatexify ───── v1.6.3\n",
      "\u001b[32m\u001b[1m   Installed\u001b[22m\u001b[39m OrderedCollections ── v1.6.0\n",
      "\u001b[32m\u001b[1m   Installed\u001b[22m\u001b[39m GR ────────────────── v0.72.7\n",
      "\u001b[32m\u001b[1m    Updating\u001b[22m\u001b[39m `C:\\Users\\god40.DESKTOP-1OM2E86\\.julia\\environments\\v1.8\\Project.toml`\n",
      " \u001b[90m [91a5bcdd] \u001b[39m\u001b[92m+ Plots v1.38.16\u001b[39m\n",
      "\u001b[32m\u001b[1m    Updating\u001b[22m\u001b[39m `C:\\Users\\god40.DESKTOP-1OM2E86\\.julia\\environments\\v1.8\\Manifest.toml`\n",
      " \u001b[90m [d1d4a3ce] \u001b[39m\u001b[92m+ BitFlags v0.1.7\u001b[39m\n",
      " \u001b[90m [d360d2e6] \u001b[39m\u001b[92m+ ChainRulesCore v1.16.0\u001b[39m\n",
      " \u001b[90m [9e997f8a] \u001b[39m\u001b[92m+ ChangesOfVariables v0.1.7\u001b[39m\n",
      " \u001b[90m [944b1d66] \u001b[39m\u001b[92m+ CodecZlib v0.7.1\u001b[39m\n",
      " \u001b[90m [35d6a980] \u001b[39m\u001b[92m+ ColorSchemes v3.21.0\u001b[39m\n",
      " \u001b[90m [c3611d14] \u001b[39m\u001b[92m+ ColorVectorSpace v0.9.10\u001b[39m\n",
      " \u001b[90m [34da2185] \u001b[39m\u001b[92m+ Compat v4.7.0\u001b[39m\n",
      " \u001b[90m [f0e56b4a] \u001b[39m\u001b[92m+ ConcurrentUtilities v2.2.0\u001b[39m\n",
      " \u001b[90m [187b0558] \u001b[39m\u001b[92m+ ConstructionBase v1.5.2\u001b[39m\n",
      " \u001b[90m [d38c429a] \u001b[39m\u001b[92m+ Contour v0.6.2\u001b[39m\n",
      " \u001b[90m [9a962f9c] \u001b[39m\u001b[92m+ DataAPI v1.15.0\u001b[39m\n",
      " \u001b[90m [864edb3b] \u001b[39m\u001b[92m+ DataStructures v0.18.13\u001b[39m\n",
      " \u001b[90m [ffbed154] \u001b[39m\u001b[92m+ DocStringExtensions v0.9.3\u001b[39m\n",
      " \u001b[90m [460bff9d] \u001b[39m\u001b[92m+ ExceptionUnwrapping v0.1.9\u001b[39m\n",
      " \u001b[90m [c87230d0] \u001b[39m\u001b[92m+ FFMPEG v0.4.1\u001b[39m\n",
      " \u001b[90m [59287772] \u001b[39m\u001b[92m+ Formatting v0.4.2\u001b[39m\n",
      " \u001b[90m [28b8d3ca] \u001b[39m\u001b[92m+ GR v0.72.7\u001b[39m\n",
      " \u001b[90m [42e2da0e] \u001b[39m\u001b[92m+ Grisu v1.0.2\u001b[39m\n",
      " \u001b[90m [cd3eb016] \u001b[39m\u001b[92m+ HTTP v1.9.7\u001b[39m\n",
      " \u001b[90m [3587e190] \u001b[39m\u001b[92m+ InverseFunctions v0.1.9\u001b[39m\n",
      " \u001b[90m [92d709cd] \u001b[39m\u001b[92m+ IrrationalConstants v0.2.2\u001b[39m\n",
      " \u001b[90m [1019f520] \u001b[39m\u001b[92m+ JLFzf v0.1.5\u001b[39m\n",
      " \u001b[90m [23fbe1c1] \u001b[39m\u001b[92m+ Latexify v0.16.1\u001b[39m\n",
      " \u001b[90m [2ab3a3ac] \u001b[39m\u001b[92m+ LogExpFunctions v0.3.24\u001b[39m\n",
      " \u001b[90m [e6f89c97] \u001b[39m\u001b[92m+ LoggingExtras v1.0.0\u001b[39m\n",
      " \u001b[90m [442fdcdd] \u001b[39m\u001b[92m+ Measures v0.3.2\u001b[39m\n",
      " \u001b[90m [e1d29d7a] \u001b[39m\u001b[92m+ Missings v1.1.0\u001b[39m\n",
      " \u001b[90m [77ba4419] \u001b[39m\u001b[92m+ NaNMath v1.0.2\u001b[39m\n",
      " \u001b[90m [4d8831e6] \u001b[39m\u001b[92m+ OpenSSL v1.4.1\u001b[39m\n",
      " \u001b[90m [bac558e1] \u001b[39m\u001b[92m+ OrderedCollections v1.6.0\u001b[39m\n",
      " \u001b[90m [b98c9c47] \u001b[39m\u001b[92m+ Pipe v1.3.0\u001b[39m\n",
      " \u001b[90m [ccf2f8ad] \u001b[39m\u001b[92m+ PlotThemes v3.1.0\u001b[39m\n",
      " \u001b[90m [995b91a9] \u001b[39m\u001b[92m+ PlotUtils v1.3.5\u001b[39m\n",
      " \u001b[90m [91a5bcdd] \u001b[39m\u001b[92m+ Plots v1.38.16\u001b[39m\n",
      " \u001b[90m [aea7be01] \u001b[39m\u001b[92m+ PrecompileTools v1.1.2\u001b[39m\n",
      " \u001b[90m [3cdcf5f2] \u001b[39m\u001b[92m+ RecipesBase v1.3.4\u001b[39m\n",
      " \u001b[90m [01d81517] \u001b[39m\u001b[92m+ RecipesPipeline v0.6.12\u001b[39m\n",
      " \u001b[90m [05181044] \u001b[39m\u001b[92m+ RelocatableFolders v1.0.0\u001b[39m\n",
      " \u001b[90m [ae029012] \u001b[39m\u001b[92m+ Requires v1.3.0\u001b[39m\n",
      " \u001b[90m [6c6a2e73] \u001b[39m\u001b[92m+ Scratch v1.2.0\u001b[39m\n",
      " \u001b[90m [992d4aef] \u001b[39m\u001b[92m+ Showoff v1.0.3\u001b[39m\n",
      " \u001b[90m [777ac1f9] \u001b[39m\u001b[92m+ SimpleBufferStream v1.1.0\u001b[39m\n",
      " \u001b[90m [a2af1166] \u001b[39m\u001b[92m+ SortingAlgorithms v1.1.1\u001b[39m\n",
      " \u001b[90m [276daf66] \u001b[39m\u001b[92m+ SpecialFunctions v2.3.0\u001b[39m\n",
      " \u001b[90m [82ae8749] \u001b[39m\u001b[92m+ StatsAPI v1.6.0\u001b[39m\n",
      " \u001b[90m [2913bbd2] \u001b[39m\u001b[92m+ StatsBase v0.34.0\u001b[39m\n",
      " \u001b[90m [62fd8b95] \u001b[39m\u001b[92m+ TensorCore v0.1.1\u001b[39m\n",
      " \u001b[90m [3bb67fe8] \u001b[39m\u001b[92m+ TranscodingStreams v0.9.13\u001b[39m\n",
      " \u001b[90m [5c2747f8] \u001b[39m\u001b[92m+ URIs v1.4.2\u001b[39m\n",
      " \u001b[90m [1cfade01] \u001b[39m\u001b[92m+ UnicodeFun v0.4.1\u001b[39m\n",
      " \u001b[90m [1986cc42] \u001b[39m\u001b[92m+ Unitful v1.14.0\u001b[39m\n",
      " \u001b[90m [45397f5d] \u001b[39m\u001b[92m+ UnitfulLatexify v1.6.3\u001b[39m\n",
      " \u001b[90m [41fe7b60] \u001b[39m\u001b[92m+ Unzip v0.2.0\u001b[39m\n",
      " \u001b[90m [6e34b625] \u001b[39m\u001b[92m+ Bzip2_jll v1.0.8+0\u001b[39m\n",
      " \u001b[90m [83423d85] \u001b[39m\u001b[92m+ Cairo_jll v1.16.1+1\u001b[39m\n",
      " \u001b[90m [2e619515] \u001b[39m\u001b[92m+ Expat_jll v2.5.0+0\u001b[39m\n",
      " \u001b[90m [b22a6f82] \u001b[39m\u001b[92m+ FFMPEG_jll v4.4.2+2\u001b[39m\n",
      " \u001b[90m [a3f928ae] \u001b[39m\u001b[92m+ Fontconfig_jll v2.13.93+0\u001b[39m\n",
      " \u001b[90m [d7e528f0] \u001b[39m\u001b[92m+ FreeType2_jll v2.10.4+0\u001b[39m\n",
      " \u001b[90m [559328eb] \u001b[39m\u001b[92m+ FriBidi_jll v1.0.10+0\u001b[39m\n",
      " \u001b[90m [0656b61e] \u001b[39m\u001b[92m+ GLFW_jll v3.3.8+0\u001b[39m\n",
      " \u001b[90m [d2c73de3] \u001b[39m\u001b[92m+ GR_jll v0.72.7+0\u001b[39m\n",
      " \u001b[90m [78b55507] \u001b[39m\u001b[92m+ Gettext_jll v0.21.0+0\u001b[39m\n",
      " \u001b[90m [7746bdde] \u001b[39m\u001b[92m+ Glib_jll v2.74.0+2\u001b[39m\n",
      " \u001b[90m [3b182d85] \u001b[39m\u001b[92m+ Graphite2_jll v1.3.14+0\u001b[39m\n",
      " \u001b[90m [2e76f6c2] \u001b[39m\u001b[92m+ HarfBuzz_jll v2.8.1+1\u001b[39m\n",
      " \u001b[90m [aacddb02] \u001b[39m\u001b[92m+ JpegTurbo_jll v2.1.91+0\u001b[39m\n",
      " \u001b[90m [c1c5ebd0] \u001b[39m\u001b[92m+ LAME_jll v3.100.1+0\u001b[39m\n",
      " \u001b[90m [88015f11] \u001b[39m\u001b[92m+ LERC_jll v3.0.0+1\u001b[39m\n",
      " \u001b[90m [1d63c593] \u001b[39m\u001b[92m+ LLVMOpenMP_jll v15.0.4+0\u001b[39m\n",
      " \u001b[90m [dd4b983a] \u001b[39m\u001b[92m+ LZO_jll v2.10.1+0\u001b[39m\n",
      "\u001b[33m⌅\u001b[39m\u001b[90m [e9f186c6] \u001b[39m\u001b[92m+ Libffi_jll v3.2.2+1\u001b[39m\n",
      " \u001b[90m [d4300ac3] \u001b[39m\u001b[92m+ Libgcrypt_jll v1.8.7+0\u001b[39m\n",
      " \u001b[90m [7e76a0d4] \u001b[39m\u001b[92m+ Libglvnd_jll v1.6.0+0\u001b[39m\n",
      " \u001b[90m [7add5ba3] \u001b[39m\u001b[92m+ Libgpg_error_jll v1.42.0+0\u001b[39m\n",
      " \u001b[90m [94ce4f54] \u001b[39m\u001b[92m+ Libiconv_jll v1.16.1+2\u001b[39m\n",
      " \u001b[90m [4b2f31a3] \u001b[39m\u001b[92m+ Libmount_jll v2.35.0+0\u001b[39m\n",
      "\u001b[33m⌅\u001b[39m\u001b[90m [89763e89] \u001b[39m\u001b[92m+ Libtiff_jll v4.4.0+0\u001b[39m\n",
      " \u001b[90m [38a345b3] \u001b[39m\u001b[92m+ Libuuid_jll v2.36.0+0\u001b[39m\n",
      " \u001b[90m [e7412a2a] \u001b[39m\u001b[92m+ Ogg_jll v1.3.5+1\u001b[39m\n",
      "\u001b[33m⌅\u001b[39m\u001b[90m [458c3c95] \u001b[39m\u001b[92m+ OpenSSL_jll v1.1.21+0\u001b[39m\n",
      " \u001b[90m [efe28fd5] \u001b[39m\u001b[92m+ OpenSpecFun_jll v0.5.5+0\u001b[39m\n",
      " \u001b[90m [91d4177d] \u001b[39m\u001b[92m+ Opus_jll v1.3.2+0\u001b[39m\n",
      " \u001b[90m [30392449] \u001b[39m\u001b[92m+ Pixman_jll v0.42.2+0\u001b[39m\n",
      " \u001b[90m [ea2cea3b] \u001b[39m\u001b[92m+ Qt5Base_jll v5.15.3+2\u001b[39m\n",
      " \u001b[90m [a2964d1f] \u001b[39m\u001b[92m+ Wayland_jll v1.21.0+0\u001b[39m\n",
      " \u001b[90m [2381bf8a] \u001b[39m\u001b[92m+ Wayland_protocols_jll v1.25.0+0\u001b[39m\n",
      " \u001b[90m [02c8fc9c] \u001b[39m\u001b[92m+ XML2_jll v2.10.3+0\u001b[39m\n",
      " \u001b[90m [aed1982a] \u001b[39m\u001b[92m+ XSLT_jll v1.1.34+0\u001b[39m\n",
      " \u001b[90m [4f6342f7] \u001b[39m\u001b[92m+ Xorg_libX11_jll v1.6.9+4\u001b[39m\n",
      " \u001b[90m [0c0b7dd1] \u001b[39m\u001b[92m+ Xorg_libXau_jll v1.0.9+4\u001b[39m\n",
      " \u001b[90m [935fb764] \u001b[39m\u001b[92m+ Xorg_libXcursor_jll v1.2.0+4\u001b[39m\n",
      " \u001b[90m [a3789734] \u001b[39m\u001b[92m+ Xorg_libXdmcp_jll v1.1.3+4\u001b[39m\n",
      " \u001b[90m [1082639a] \u001b[39m\u001b[92m+ Xorg_libXext_jll v1.3.4+4\u001b[39m\n",
      " \u001b[90m [d091e8ba] \u001b[39m\u001b[92m+ Xorg_libXfixes_jll v5.0.3+4\u001b[39m\n",
      " \u001b[90m [a51aa0fd] \u001b[39m\u001b[92m+ Xorg_libXi_jll v1.7.10+4\u001b[39m\n",
      " \u001b[90m [d1454406] \u001b[39m\u001b[92m+ Xorg_libXinerama_jll v1.1.4+4\u001b[39m\n",
      " \u001b[90m [ec84b674] \u001b[39m\u001b[92m+ Xorg_libXrandr_jll v1.5.2+4\u001b[39m\n",
      " \u001b[90m [ea2f1a96] \u001b[39m\u001b[92m+ Xorg_libXrender_jll v0.9.10+4\u001b[39m\n",
      " \u001b[90m [14d82f49] \u001b[39m\u001b[92m+ Xorg_libpthread_stubs_jll v0.1.0+3\u001b[39m\n",
      " \u001b[90m [c7cfdc94] \u001b[39m\u001b[92m+ Xorg_libxcb_jll v1.13.0+3\u001b[39m\n",
      " \u001b[90m [cc61e674] \u001b[39m\u001b[92m+ Xorg_libxkbfile_jll v1.1.0+4\u001b[39m\n",
      " \u001b[90m [12413925] \u001b[39m\u001b[92m+ Xorg_xcb_util_image_jll v0.4.0+1\u001b[39m\n",
      " \u001b[90m [2def613f] \u001b[39m\u001b[92m+ Xorg_xcb_util_jll v0.4.0+1\u001b[39m\n",
      " \u001b[90m [975044d2] \u001b[39m\u001b[92m+ Xorg_xcb_util_keysyms_jll v0.4.0+1\u001b[39m\n",
      " \u001b[90m [0d47668e] \u001b[39m\u001b[92m+ Xorg_xcb_util_renderutil_jll v0.3.9+1\u001b[39m\n",
      " \u001b[90m [c22f9ab0] \u001b[39m\u001b[92m+ Xorg_xcb_util_wm_jll v0.4.1+1\u001b[39m\n",
      " \u001b[90m [35661453] \u001b[39m\u001b[92m+ Xorg_xkbcomp_jll v1.4.2+4\u001b[39m\n",
      " \u001b[90m [33bec58e] \u001b[39m\u001b[92m+ Xorg_xkeyboard_config_jll v2.27.0+4\u001b[39m\n",
      " \u001b[90m [c5fb5394] \u001b[39m\u001b[92m+ Xorg_xtrans_jll v1.4.0+3\u001b[39m\n",
      " \u001b[90m [3161d3a3] \u001b[39m\u001b[92m+ Zstd_jll v1.5.5+0\u001b[39m\n",
      "\u001b[33m⌅\u001b[39m\u001b[90m [214eeab7] \u001b[39m\u001b[92m+ fzf_jll v0.29.0+0\u001b[39m\n",
      " \u001b[90m [a4ae2306] \u001b[39m\u001b[92m+ libaom_jll v3.4.0+0\u001b[39m\n",
      " \u001b[90m [0ac62f75] \u001b[39m\u001b[92m+ libass_jll v0.15.1+0\u001b[39m\n",
      " \u001b[90m [f638f0a6] \u001b[39m\u001b[92m+ libfdk_aac_jll v2.0.2+0\u001b[39m\n",
      " \u001b[90m [b53b4c65] \u001b[39m\u001b[92m+ libpng_jll v1.6.38+0\u001b[39m\n",
      " \u001b[90m [f27f6e37] \u001b[39m\u001b[92m+ libvorbis_jll v1.3.7+1\u001b[39m\n",
      " \u001b[90m [1270edf5] \u001b[39m\u001b[92m+ x264_jll v2021.5.5+0\u001b[39m\n",
      " \u001b[90m [dfaa095f] \u001b[39m\u001b[92m+ x265_jll v3.5.0+0\u001b[39m\n",
      " \u001b[90m [d8fb68d0] \u001b[39m\u001b[92m+ xkbcommon_jll v1.4.1+0\u001b[39m\n",
      " \u001b[90m [8bb1440f] \u001b[39m\u001b[92m+ DelimitedFiles\u001b[39m\n",
      " \u001b[90m [05823500] \u001b[39m\u001b[92m+ OpenLibm_jll v0.8.1+0\u001b[39m\n",
      " \u001b[90m [efcefdf7] \u001b[39m\u001b[92m+ PCRE2_jll v10.40.0+0\u001b[39m\n",
      "\u001b[36m\u001b[1m        Info\u001b[22m\u001b[39m Packages marked with \u001b[33m⌅\u001b[39m have new versions available but compatibility constraints restrict them from upgrading. To see why use `status --outdated -m`\n",
      "\u001b[32m\u001b[1mPrecompiling\u001b[22m\u001b[39m project...\n",
      "\u001b[32m  ✓ \u001b[39m\u001b[90mTensorCore\u001b[39m\n",
      "\u001b[32m  ✓ \u001b[39m\u001b[90mStatsAPI\u001b[39m\n",
      "\u001b[32m  ✓ \u001b[39m\u001b[90mContour\u001b[39m\n",
      "\u001b[32m  ✓ \u001b[39m\u001b[90mPipe\u001b[39m\n",
      "\u001b[32m  ✓ \u001b[39m\u001b[90mOpenLibm_jll\u001b[39m\n",
      "\u001b[32m  ✓ \u001b[39m\u001b[90mConcurrentUtilities\u001b[39m\n",
      "\u001b[32m  ✓ \u001b[39m\u001b[90mMeasures\u001b[39m\n",
      "\u001b[32m  ✓ \u001b[39m\u001b[90mChangesOfVariables\u001b[39m\n",
      "\u001b[32m  ✓ \u001b[39m\u001b[90mCompat\u001b[39m\n",
      "\u001b[32m  ✓ \u001b[39m\u001b[90mInverseFunctions\u001b[39m\n",
      "\u001b[32m  ✓ \u001b[39m\u001b[90mOrderedCollections\u001b[39m\n",
      "\u001b[32m  ✓ \u001b[39m\u001b[90mGrisu\u001b[39m\n",
      "\u001b[32m  ✓ \u001b[39m\u001b[90mSimpleBufferStream\u001b[39m\n",
      "\u001b[32m  ✓ \u001b[39m\u001b[90mUnzip\u001b[39m\n",
      "\u001b[32m  ✓ \u001b[39m\u001b[90mDocStringExtensions\u001b[39m\n",
      "\u001b[32m  ✓ \u001b[39m\u001b[90mURIs\u001b[39m\n",
      "\u001b[32m  ✓ \u001b[39m\u001b[90mRequires\u001b[39m\n",
      "\u001b[32m  ✓ \u001b[39m\u001b[90mIrrationalConstants\u001b[39m\n",
      "\u001b[32m  ✓ \u001b[39m\u001b[90mFormatting\u001b[39m\n",
      "\u001b[32m  ✓ \u001b[39m\u001b[90mPCRE2_jll\u001b[39m\n",
      "\u001b[32m  ✓ \u001b[39m\u001b[90mExceptionUnwrapping\u001b[39m\n",
      "\u001b[32m  ✓ \u001b[39m\u001b[90mDataAPI\u001b[39m\n",
      "\u001b[32m  ✓ \u001b[39m\u001b[90mBitFlags\u001b[39m\n",
      "\u001b[32m  ✓ \u001b[39m\u001b[90mScratch\u001b[39m\n",
      "\u001b[32m  ✓ \u001b[39m\u001b[90mPrecompileTools\u001b[39m\n",
      "\u001b[32m  ✓ \u001b[39m\u001b[90mUnicodeFun\u001b[39m\n",
      "\u001b[32m  ✓ \u001b[39m\u001b[90mConstructionBase\u001b[39m\n",
      "\u001b[32m  ✓ \u001b[39m\u001b[90mTranscodingStreams\u001b[39m\n",
      "\u001b[32m  ✓ \u001b[39m\u001b[90mLoggingExtras\u001b[39m\n",
      "\u001b[32m  ✓ \u001b[39m\u001b[90mGraphite2_jll\u001b[39m\n",
      "\u001b[32m  ✓ \u001b[39m\u001b[90mOpenSSL_jll\u001b[39m\n",
      "\u001b[32m  ✓ \u001b[39m\u001b[90mLibmount_jll\u001b[39m\n",
      "\u001b[32m  ✓ \u001b[39m\u001b[90mLLVMOpenMP_jll\u001b[39m\n",
      "\u001b[32m  ✓ \u001b[39m\u001b[90mXorg_libXau_jll\u001b[39m\n",
      "\u001b[32m  ✓ \u001b[39m\u001b[90mBzip2_jll\u001b[39m\n",
      "\u001b[32m  ✓ \u001b[39m\u001b[90mlibpng_jll\u001b[39m\n",
      "\u001b[32m  ✓ \u001b[39m\u001b[90mLAME_jll\u001b[39m\n",
      "\u001b[32m  ✓ \u001b[39m\u001b[90mlibfdk_aac_jll\u001b[39m\n",
      "\u001b[32m  ✓ \u001b[39m\u001b[90mOgg_jll\u001b[39m\n",
      "\u001b[32m  ✓ \u001b[39m\u001b[90mfzf_jll\u001b[39m\n",
      "\u001b[32m  ✓ \u001b[39m\u001b[90mLERC_jll\u001b[39m\n",
      "\u001b[32m  ✓ \u001b[39m\u001b[90mJpegTurbo_jll\u001b[39m\n",
      "\u001b[32m  ✓ \u001b[39m\u001b[90mXorg_libXdmcp_jll\u001b[39m\n",
      "\u001b[32m  ✓ \u001b[39m\u001b[90mx264_jll\u001b[39m\n",
      "\u001b[32m  ✓ \u001b[39m\u001b[90mx265_jll\u001b[39m\n",
      "\u001b[32m  ✓ \u001b[39m\u001b[90mlibaom_jll\u001b[39m\n",
      "\u001b[32m  ✓ \u001b[39m\u001b[90mZstd_jll\u001b[39m\n",
      "\u001b[32m  ✓ \u001b[39m\u001b[90mLZO_jll\u001b[39m\n",
      "\u001b[32m  ✓ \u001b[39m\u001b[90mExpat_jll\u001b[39m\n",
      "\u001b[32m  ✓ \u001b[39m\u001b[90mXorg_xtrans_jll\u001b[39m\n",
      "\u001b[32m  ✓ \u001b[39m\u001b[90mOpus_jll\u001b[39m\n",
      "\u001b[32m  ✓ \u001b[39m\u001b[90mLibiconv_jll\u001b[39m\n",
      "\u001b[32m  ✓ \u001b[39m\u001b[90mLibffi_jll\u001b[39m\n",
      "\u001b[32m  ✓ \u001b[39m\u001b[90mWayland_protocols_jll\u001b[39m\n",
      "\u001b[32m  ✓ \u001b[39m\u001b[90mLibgpg_error_jll\u001b[39m\n",
      "\u001b[32m  ✓ \u001b[39m\u001b[90mOpenSpecFun_jll\u001b[39m\n",
      "\u001b[32m  ✓ \u001b[39m\u001b[90mNaNMath\u001b[39m\n",
      "\u001b[32m  ✓ \u001b[39m\u001b[90mShowoff\u001b[39m\n",
      "\u001b[32m  ✓ \u001b[39m\u001b[90mXorg_libpthread_stubs_jll\u001b[39m\n",
      "\u001b[32m  ✓ \u001b[39m\u001b[90mLibuuid_jll\u001b[39m\n",
      "\u001b[32m  ✓ \u001b[39m\u001b[90mFriBidi_jll\u001b[39m\n",
      "\u001b[32m  ✓ \u001b[39m\u001b[90mRelocatableFolders\u001b[39m\n",
      "\u001b[32m  ✓ \u001b[39m\u001b[90mMissings\u001b[39m\n",
      "\u001b[32m  ✓ \u001b[39m\u001b[90mChainRulesCore\u001b[39m\n",
      "\u001b[32m  ✓ \u001b[39m\u001b[90mCodecZlib\u001b[39m\n",
      "\u001b[32m  ✓ \u001b[39m\u001b[90mDataStructures\u001b[39m\n",
      "\u001b[32m  ✓ \u001b[39m\u001b[90mPixman_jll\u001b[39m\n",
      "\u001b[32m  ✓ \u001b[39m\u001b[90mRecipesBase\u001b[39m\n",
      "\u001b[32m  ✓ \u001b[39m\u001b[90mFreeType2_jll\u001b[39m\n",
      "\u001b[32m  ✓ \u001b[39m\u001b[90mOpenSSL\u001b[39m\n",
      "\u001b[32m  ✓ \u001b[39m\u001b[90mLatexify\u001b[39m\n",
      "\u001b[32m  ✓ \u001b[39m\u001b[90mJLFzf\u001b[39m\n",
      "\u001b[32m  ✓ \u001b[39m\u001b[90mlibvorbis_jll\u001b[39m\n",
      "\u001b[32m  ✓ \u001b[39m\u001b[90mXML2_jll\u001b[39m\n",
      "\u001b[32m  ✓ \u001b[39m\u001b[90mLibtiff_jll\u001b[39m\n",
      "\u001b[32m  ✓ \u001b[39m\u001b[90mSortingAlgorithms\u001b[39m\n",
      "\u001b[32m  ✓ \u001b[39m\u001b[90mLibgcrypt_jll\u001b[39m\n",
      "\u001b[32m  ✓ \u001b[39m\u001b[90mFontconfig_jll\u001b[39m\n",
      "\u001b[32m  ✓ \u001b[39m\u001b[90mGettext_jll\u001b[39m\n",
      "\u001b[32m  ✓ \u001b[39m\u001b[90mLogExpFunctions\u001b[39m\n",
      "\u001b[32m  ✓ \u001b[39m\u001b[90mXSLT_jll\u001b[39m\n",
      "\u001b[32m  ✓ \u001b[39m\u001b[90mWayland_jll\u001b[39m\n",
      "\u001b[32m  ✓ \u001b[39m\u001b[90mGlib_jll\u001b[39m\n",
      "\u001b[32m  ✓ \u001b[39m\u001b[90mXorg_libxcb_jll\u001b[39m\n",
      "\u001b[32m  ✓ \u001b[39m\u001b[90mXorg_xcb_util_jll\u001b[39m\n",
      "\u001b[32m  ✓ \u001b[39m\u001b[90mXorg_libX11_jll\u001b[39m\n",
      "\u001b[32m  ✓ \u001b[39m\u001b[90mStatsBase\u001b[39m\n",
      "\u001b[32m  ✓ \u001b[39m\u001b[90mHTTP\u001b[39m\n",
      "\u001b[32m  ✓ \u001b[39m\u001b[90mXorg_xcb_util_keysyms_jll\u001b[39m\n",
      "\u001b[32m  ✓ \u001b[39m\u001b[90mXorg_xcb_util_wm_jll\u001b[39m\n",
      "\u001b[32m  ✓ \u001b[39m\u001b[90mXorg_xcb_util_image_jll\u001b[39m\n",
      "\u001b[32m  ✓ \u001b[39m\u001b[90mXorg_xcb_util_renderutil_jll\u001b[39m\n",
      "\u001b[32m  ✓ \u001b[39m\u001b[90mXorg_libXrender_jll\u001b[39m\n",
      "\u001b[32m  ✓ \u001b[39m\u001b[90mSpecialFunctions\u001b[39m\n",
      "\u001b[32m  ✓ \u001b[39m\u001b[90mXorg_libXfixes_jll\u001b[39m\n",
      "\u001b[32m  ✓ \u001b[39m\u001b[90mXorg_libxkbfile_jll\u001b[39m\n",
      "\u001b[32m  ✓ \u001b[39m\u001b[90mXorg_libXext_jll\u001b[39m\n",
      "\u001b[32m  ✓ \u001b[39m\u001b[90mXorg_xkbcomp_jll\u001b[39m\n",
      "\u001b[32m  ✓ \u001b[39m\u001b[90mColorVectorSpace\u001b[39m\n",
      "\u001b[32m  ✓ \u001b[39m\u001b[90mXorg_libXi_jll\u001b[39m\n",
      "\u001b[32m  ✓ \u001b[39m\u001b[90mXorg_libXcursor_jll\u001b[39m\n",
      "\u001b[32m  ✓ \u001b[39m\u001b[90mXorg_libXrandr_jll\u001b[39m\n",
      "\u001b[32m  ✓ \u001b[39m\u001b[90mLibglvnd_jll\u001b[39m\n",
      "\u001b[32m  ✓ \u001b[39m\u001b[90mXorg_libXinerama_jll\u001b[39m\n",
      "\u001b[32m  ✓ \u001b[39m\u001b[90mXorg_xkeyboard_config_jll\u001b[39m\n",
      "\u001b[32m  ✓ \u001b[39m\u001b[90mxkbcommon_jll\u001b[39m\n",
      "\u001b[32m  ✓ \u001b[39m\u001b[90mGLFW_jll\u001b[39m\n",
      "\u001b[32m  ✓ \u001b[39m\u001b[90mCairo_jll\u001b[39m\n",
      "\u001b[32m  ✓ \u001b[39m\u001b[90mQt5Base_jll\u001b[39m\n",
      "\u001b[32m  ✓ \u001b[39m\u001b[90mHarfBuzz_jll\u001b[39m\n",
      "\u001b[32m  ✓ \u001b[39m\u001b[90mlibass_jll\u001b[39m\n",
      "\u001b[32m  ✓ \u001b[39m\u001b[90mUnitful\u001b[39m\n",
      "\u001b[32m  ✓ \u001b[39m\u001b[90mFFMPEG_jll\u001b[39m\n",
      "\u001b[32m  ✓ \u001b[39m\u001b[90mColorSchemes\u001b[39m\n",
      "\u001b[32m  ✓ \u001b[39m\u001b[90mUnitfulLatexify\u001b[39m\n",
      "\u001b[32m  ✓ \u001b[39m\u001b[90mFFMPEG\u001b[39m\n",
      "\u001b[32m  ✓ \u001b[39m\u001b[90mGR_jll\u001b[39m\n",
      "\u001b[32m  ✓ \u001b[39m\u001b[90mGR\u001b[39m\n",
      "\u001b[32m  ✓ \u001b[39m\u001b[90mPlotUtils\u001b[39m\n",
      "\u001b[32m  ✓ \u001b[39m\u001b[90mRecipesPipeline\u001b[39m\n",
      "\u001b[32m  ✓ \u001b[39m\u001b[90mPlotThemes\u001b[39m\n",
      "\u001b[32m  ✓ \u001b[39mPlots\n",
      "  122 dependencies successfully precompiled in 82 seconds. 28 already precompiled.\n"
     ]
    },
    {
     "data": {
      "image/svg+xml": [
       "<?xml version=\"1.0\" encoding=\"utf-8\"?>\n",
       "<svg xmlns=\"http://www.w3.org/2000/svg\" xmlns:xlink=\"http://www.w3.org/1999/xlink\" width=\"600\" height=\"400\" viewBox=\"0 0 2400 1600\">\n",
       "<defs>\n",
       "  <clipPath id=\"clip250\">\n",
       "    <rect x=\"0\" y=\"0\" width=\"2400\" height=\"1600\"/>\n",
       "  </clipPath>\n",
       "</defs>\n",
       "<path clip-path=\"url(#clip250)\" d=\"M0 1600 L2400 1600 L2400 0 L0 0  Z\" fill=\"#ffffff\" fill-rule=\"evenodd\" fill-opacity=\"1\"/>\n",
       "<defs>\n",
       "  <clipPath id=\"clip251\">\n",
       "    <rect x=\"480\" y=\"0\" width=\"1681\" height=\"1600\"/>\n",
       "  </clipPath>\n",
       "</defs>\n",
       "<path clip-path=\"url(#clip250)\" d=\"M156.598 1486.45 L2352.76 1486.45 L2352.76 123.472 L156.598 123.472  Z\" fill=\"#ffffff\" fill-rule=\"evenodd\" fill-opacity=\"1\"/>\n",
       "<defs>\n",
       "  <clipPath id=\"clip252\">\n",
       "    <rect x=\"156\" y=\"123\" width=\"2197\" height=\"1364\"/>\n",
       "  </clipPath>\n",
       "</defs>\n",
       "<polyline clip-path=\"url(#clip252)\" style=\"stroke:#000000; stroke-linecap:round; stroke-linejoin:round; stroke-width:2; stroke-opacity:0.1; fill:none\" points=\"156.598,1486.45 156.598,123.472 \"/>\n",
       "<polyline clip-path=\"url(#clip252)\" style=\"stroke:#000000; stroke-linecap:round; stroke-linejoin:round; stroke-width:2; stroke-opacity:0.1; fill:none\" points=\"595.83,1486.45 595.83,123.472 \"/>\n",
       "<polyline clip-path=\"url(#clip252)\" style=\"stroke:#000000; stroke-linecap:round; stroke-linejoin:round; stroke-width:2; stroke-opacity:0.1; fill:none\" points=\"1035.06,1486.45 1035.06,123.472 \"/>\n",
       "<polyline clip-path=\"url(#clip252)\" style=\"stroke:#000000; stroke-linecap:round; stroke-linejoin:round; stroke-width:2; stroke-opacity:0.1; fill:none\" points=\"1474.29,1486.45 1474.29,123.472 \"/>\n",
       "<polyline clip-path=\"url(#clip252)\" style=\"stroke:#000000; stroke-linecap:round; stroke-linejoin:round; stroke-width:2; stroke-opacity:0.1; fill:none\" points=\"1913.52,1486.45 1913.52,123.472 \"/>\n",
       "<polyline clip-path=\"url(#clip252)\" style=\"stroke:#000000; stroke-linecap:round; stroke-linejoin:round; stroke-width:2; stroke-opacity:0.1; fill:none\" points=\"2352.76,1486.45 2352.76,123.472 \"/>\n",
       "<polyline clip-path=\"url(#clip250)\" style=\"stroke:#000000; stroke-linecap:round; stroke-linejoin:round; stroke-width:4; stroke-opacity:1; fill:none\" points=\"156.598,1486.45 2352.76,1486.45 \"/>\n",
       "<polyline clip-path=\"url(#clip250)\" style=\"stroke:#000000; stroke-linecap:round; stroke-linejoin:round; stroke-width:4; stroke-opacity:1; fill:none\" points=\"156.598,1486.45 156.598,1467.55 \"/>\n",
       "<polyline clip-path=\"url(#clip250)\" style=\"stroke:#000000; stroke-linecap:round; stroke-linejoin:round; stroke-width:4; stroke-opacity:1; fill:none\" points=\"595.83,1486.45 595.83,1467.55 \"/>\n",
       "<polyline clip-path=\"url(#clip250)\" style=\"stroke:#000000; stroke-linecap:round; stroke-linejoin:round; stroke-width:4; stroke-opacity:1; fill:none\" points=\"1035.06,1486.45 1035.06,1467.55 \"/>\n",
       "<polyline clip-path=\"url(#clip250)\" style=\"stroke:#000000; stroke-linecap:round; stroke-linejoin:round; stroke-width:4; stroke-opacity:1; fill:none\" points=\"1474.29,1486.45 1474.29,1467.55 \"/>\n",
       "<polyline clip-path=\"url(#clip250)\" style=\"stroke:#000000; stroke-linecap:round; stroke-linejoin:round; stroke-width:4; stroke-opacity:1; fill:none\" points=\"1913.52,1486.45 1913.52,1467.55 \"/>\n",
       "<polyline clip-path=\"url(#clip250)\" style=\"stroke:#000000; stroke-linecap:round; stroke-linejoin:round; stroke-width:4; stroke-opacity:1; fill:none\" points=\"2352.76,1486.45 2352.76,1467.55 \"/>\n",
       "<path clip-path=\"url(#clip250)\" d=\"M133.983 1517.37 Q130.372 1517.37 128.543 1520.93 Q126.737 1524.47 126.737 1531.6 Q126.737 1538.71 128.543 1542.27 Q130.372 1545.82 133.983 1545.82 Q137.617 1545.82 139.422 1542.27 Q141.251 1538.71 141.251 1531.6 Q141.251 1524.47 139.422 1520.93 Q137.617 1517.37 133.983 1517.37 M133.983 1513.66 Q139.793 1513.66 142.848 1518.27 Q145.927 1522.85 145.927 1531.6 Q145.927 1540.33 142.848 1544.94 Q139.793 1549.52 133.983 1549.52 Q128.172 1549.52 125.094 1544.94 Q122.038 1540.33 122.038 1531.6 Q122.038 1522.85 125.094 1518.27 Q128.172 1513.66 133.983 1513.66 Z\" fill=\"#000000\" fill-rule=\"nonzero\" fill-opacity=\"1\" /><path clip-path=\"url(#clip250)\" d=\"M154.145 1542.97 L159.029 1542.97 L159.029 1548.85 L154.145 1548.85 L154.145 1542.97 Z\" fill=\"#000000\" fill-rule=\"nonzero\" fill-opacity=\"1\" /><path clip-path=\"url(#clip250)\" d=\"M179.214 1517.37 Q175.603 1517.37 173.774 1520.93 Q171.969 1524.47 171.969 1531.6 Q171.969 1538.71 173.774 1542.27 Q175.603 1545.82 179.214 1545.82 Q182.848 1545.82 184.654 1542.27 Q186.482 1538.71 186.482 1531.6 Q186.482 1524.47 184.654 1520.93 Q182.848 1517.37 179.214 1517.37 M179.214 1513.66 Q185.024 1513.66 188.08 1518.27 Q191.158 1522.85 191.158 1531.6 Q191.158 1540.33 188.08 1544.94 Q185.024 1549.52 179.214 1549.52 Q173.404 1549.52 170.325 1544.94 Q167.269 1540.33 167.269 1531.6 Q167.269 1522.85 170.325 1518.27 Q173.404 1513.66 179.214 1513.66 Z\" fill=\"#000000\" fill-rule=\"nonzero\" fill-opacity=\"1\" /><path clip-path=\"url(#clip250)\" d=\"M574.013 1517.37 Q570.402 1517.37 568.573 1520.93 Q566.767 1524.47 566.767 1531.6 Q566.767 1538.71 568.573 1542.27 Q570.402 1545.82 574.013 1545.82 Q577.647 1545.82 579.453 1542.27 Q581.281 1538.71 581.281 1531.6 Q581.281 1524.47 579.453 1520.93 Q577.647 1517.37 574.013 1517.37 M574.013 1513.66 Q579.823 1513.66 582.878 1518.27 Q585.957 1522.85 585.957 1531.6 Q585.957 1540.33 582.878 1544.94 Q579.823 1549.52 574.013 1549.52 Q568.203 1549.52 565.124 1544.94 Q562.068 1540.33 562.068 1531.6 Q562.068 1522.85 565.124 1518.27 Q568.203 1513.66 574.013 1513.66 Z\" fill=\"#000000\" fill-rule=\"nonzero\" fill-opacity=\"1\" /><path clip-path=\"url(#clip250)\" d=\"M594.175 1542.97 L599.059 1542.97 L599.059 1548.85 L594.175 1548.85 L594.175 1542.97 Z\" fill=\"#000000\" fill-rule=\"nonzero\" fill-opacity=\"1\" /><path clip-path=\"url(#clip250)\" d=\"M613.272 1544.91 L629.591 1544.91 L629.591 1548.85 L607.647 1548.85 L607.647 1544.91 Q610.309 1542.16 614.892 1537.53 Q619.499 1532.88 620.679 1531.53 Q622.925 1529.01 623.804 1527.27 Q624.707 1525.51 624.707 1523.82 Q624.707 1521.07 622.762 1519.33 Q620.841 1517.6 617.739 1517.6 Q615.54 1517.6 613.087 1518.36 Q610.656 1519.13 607.878 1520.68 L607.878 1515.95 Q610.702 1514.82 613.156 1514.24 Q615.61 1513.66 617.647 1513.66 Q623.017 1513.66 626.212 1516.35 Q629.406 1519.03 629.406 1523.52 Q629.406 1525.65 628.596 1527.57 Q627.809 1529.47 625.702 1532.07 Q625.124 1532.74 622.022 1535.95 Q618.92 1539.15 613.272 1544.91 Z\" fill=\"#000000\" fill-rule=\"nonzero\" fill-opacity=\"1\" /><path clip-path=\"url(#clip250)\" d=\"M1012.2 1517.37 Q1008.59 1517.37 1006.76 1520.93 Q1004.96 1524.47 1004.96 1531.6 Q1004.96 1538.71 1006.76 1542.27 Q1008.59 1545.82 1012.2 1545.82 Q1015.84 1545.82 1017.64 1542.27 Q1019.47 1538.71 1019.47 1531.6 Q1019.47 1524.47 1017.64 1520.93 Q1015.84 1517.37 1012.2 1517.37 M1012.2 1513.66 Q1018.01 1513.66 1021.07 1518.27 Q1024.15 1522.85 1024.15 1531.6 Q1024.15 1540.33 1021.07 1544.94 Q1018.01 1549.52 1012.2 1549.52 Q1006.39 1549.52 1003.31 1544.94 Q1000.26 1540.33 1000.26 1531.6 Q1000.26 1522.85 1003.31 1518.27 Q1006.39 1513.66 1012.2 1513.66 Z\" fill=\"#000000\" fill-rule=\"nonzero\" fill-opacity=\"1\" /><path clip-path=\"url(#clip250)\" d=\"M1032.36 1542.97 L1037.25 1542.97 L1037.25 1548.85 L1032.36 1548.85 L1032.36 1542.97 Z\" fill=\"#000000\" fill-rule=\"nonzero\" fill-opacity=\"1\" /><path clip-path=\"url(#clip250)\" d=\"M1060.28 1518.36 L1048.48 1536.81 L1060.28 1536.81 L1060.28 1518.36 M1059.05 1514.29 L1064.93 1514.29 L1064.93 1536.81 L1069.86 1536.81 L1069.86 1540.7 L1064.93 1540.7 L1064.93 1548.85 L1060.28 1548.85 L1060.28 1540.7 L1044.68 1540.7 L1044.68 1536.19 L1059.05 1514.29 Z\" fill=\"#000000\" fill-rule=\"nonzero\" fill-opacity=\"1\" /><path clip-path=\"url(#clip250)\" d=\"M1451.6 1517.37 Q1447.99 1517.37 1446.16 1520.93 Q1444.35 1524.47 1444.35 1531.6 Q1444.35 1538.71 1446.16 1542.27 Q1447.99 1545.82 1451.6 1545.82 Q1455.23 1545.82 1457.04 1542.27 Q1458.86 1538.71 1458.86 1531.6 Q1458.86 1524.47 1457.04 1520.93 Q1455.23 1517.37 1451.6 1517.37 M1451.6 1513.66 Q1457.41 1513.66 1460.46 1518.27 Q1463.54 1522.85 1463.54 1531.6 Q1463.54 1540.33 1460.46 1544.94 Q1457.41 1549.52 1451.6 1549.52 Q1445.79 1549.52 1442.71 1544.94 Q1439.65 1540.33 1439.65 1531.6 Q1439.65 1522.85 1442.71 1518.27 Q1445.79 1513.66 1451.6 1513.66 Z\" fill=\"#000000\" fill-rule=\"nonzero\" fill-opacity=\"1\" /><path clip-path=\"url(#clip250)\" d=\"M1471.76 1542.97 L1476.64 1542.97 L1476.64 1548.85 L1471.76 1548.85 L1471.76 1542.97 Z\" fill=\"#000000\" fill-rule=\"nonzero\" fill-opacity=\"1\" /><path clip-path=\"url(#clip250)\" d=\"M1497.41 1529.7 Q1494.26 1529.7 1492.41 1531.86 Q1490.58 1534.01 1490.58 1537.76 Q1490.58 1541.49 1492.41 1543.66 Q1494.26 1545.82 1497.41 1545.82 Q1500.55 1545.82 1502.38 1543.66 Q1504.23 1541.49 1504.23 1537.76 Q1504.23 1534.01 1502.38 1531.86 Q1500.55 1529.7 1497.41 1529.7 M1506.69 1515.05 L1506.69 1519.31 Q1504.93 1518.48 1503.12 1518.04 Q1501.34 1517.6 1499.58 1517.6 Q1494.95 1517.6 1492.5 1520.72 Q1490.07 1523.85 1489.72 1530.17 Q1491.09 1528.15 1493.15 1527.09 Q1495.21 1526 1497.68 1526 Q1502.89 1526 1505.9 1529.17 Q1508.93 1532.32 1508.93 1537.76 Q1508.93 1543.08 1505.79 1546.3 Q1502.64 1549.52 1497.41 1549.52 Q1491.41 1549.52 1488.24 1544.94 Q1485.07 1540.33 1485.07 1531.6 Q1485.07 1523.41 1488.96 1518.55 Q1492.85 1513.66 1499.4 1513.66 Q1501.16 1513.66 1502.94 1514.01 Q1504.74 1514.36 1506.69 1515.05 Z\" fill=\"#000000\" fill-rule=\"nonzero\" fill-opacity=\"1\" /><path clip-path=\"url(#clip250)\" d=\"M1890.96 1517.37 Q1887.34 1517.37 1885.52 1520.93 Q1883.71 1524.47 1883.71 1531.6 Q1883.71 1538.71 1885.52 1542.27 Q1887.34 1545.82 1890.96 1545.82 Q1894.59 1545.82 1896.39 1542.27 Q1898.22 1538.71 1898.22 1531.6 Q1898.22 1524.47 1896.39 1520.93 Q1894.59 1517.37 1890.96 1517.37 M1890.96 1513.66 Q1896.77 1513.66 1899.82 1518.27 Q1902.9 1522.85 1902.9 1531.6 Q1902.9 1540.33 1899.82 1544.94 Q1896.77 1549.52 1890.96 1549.52 Q1885.14 1549.52 1882.07 1544.94 Q1879.01 1540.33 1879.01 1531.6 Q1879.01 1522.85 1882.07 1518.27 Q1885.14 1513.66 1890.96 1513.66 Z\" fill=\"#000000\" fill-rule=\"nonzero\" fill-opacity=\"1\" /><path clip-path=\"url(#clip250)\" d=\"M1911.12 1542.97 L1916 1542.97 L1916 1548.85 L1911.12 1548.85 L1911.12 1542.97 Z\" fill=\"#000000\" fill-rule=\"nonzero\" fill-opacity=\"1\" /><path clip-path=\"url(#clip250)\" d=\"M1936.19 1532.44 Q1932.85 1532.44 1930.93 1534.22 Q1929.03 1536 1929.03 1539.13 Q1929.03 1542.25 1930.93 1544.03 Q1932.85 1545.82 1936.19 1545.82 Q1939.52 1545.82 1941.44 1544.03 Q1943.36 1542.23 1943.36 1539.13 Q1943.36 1536 1941.44 1534.22 Q1939.54 1532.44 1936.19 1532.44 M1931.51 1530.45 Q1928.5 1529.7 1926.81 1527.64 Q1925.14 1525.58 1925.14 1522.62 Q1925.14 1518.48 1928.08 1516.07 Q1931.05 1513.66 1936.19 1513.66 Q1941.35 1513.66 1944.29 1516.07 Q1947.23 1518.48 1947.23 1522.62 Q1947.23 1525.58 1945.54 1527.64 Q1943.87 1529.7 1940.89 1530.45 Q1944.26 1531.23 1946.14 1533.52 Q1948.04 1535.82 1948.04 1539.13 Q1948.04 1544.15 1944.96 1546.83 Q1941.9 1549.52 1936.19 1549.52 Q1930.47 1549.52 1927.39 1546.83 Q1924.33 1544.15 1924.33 1539.13 Q1924.33 1535.82 1926.23 1533.52 Q1928.13 1531.23 1931.51 1530.45 M1929.8 1523.06 Q1929.8 1525.75 1931.46 1527.25 Q1933.15 1528.76 1936.19 1528.76 Q1939.2 1528.76 1940.89 1527.25 Q1942.6 1525.75 1942.6 1523.06 Q1942.6 1520.38 1940.89 1518.87 Q1939.2 1517.37 1936.19 1517.37 Q1933.15 1517.37 1931.46 1518.87 Q1929.8 1520.38 1929.8 1523.06 Z\" fill=\"#000000\" fill-rule=\"nonzero\" fill-opacity=\"1\" /><path clip-path=\"url(#clip250)\" d=\"M2319.91 1544.91 L2327.55 1544.91 L2327.55 1518.55 L2319.24 1520.21 L2319.24 1515.95 L2327.5 1514.29 L2332.18 1514.29 L2332.18 1544.91 L2339.82 1544.91 L2339.82 1548.85 L2319.91 1548.85 L2319.91 1544.91 Z\" fill=\"#000000\" fill-rule=\"nonzero\" fill-opacity=\"1\" /><path clip-path=\"url(#clip250)\" d=\"M2349.26 1542.97 L2354.14 1542.97 L2354.14 1548.85 L2349.26 1548.85 L2349.26 1542.97 Z\" fill=\"#000000\" fill-rule=\"nonzero\" fill-opacity=\"1\" /><path clip-path=\"url(#clip250)\" d=\"M2374.33 1517.37 Q2370.72 1517.37 2368.89 1520.93 Q2367.08 1524.47 2367.08 1531.6 Q2367.08 1538.71 2368.89 1542.27 Q2370.72 1545.82 2374.33 1545.82 Q2377.96 1545.82 2379.77 1542.27 Q2381.6 1538.71 2381.6 1531.6 Q2381.6 1524.47 2379.77 1520.93 Q2377.96 1517.37 2374.33 1517.37 M2374.33 1513.66 Q2380.14 1513.66 2383.2 1518.27 Q2386.27 1522.85 2386.27 1531.6 Q2386.27 1540.33 2383.2 1544.94 Q2380.14 1549.52 2374.33 1549.52 Q2368.52 1549.52 2365.44 1544.94 Q2362.39 1540.33 2362.39 1531.6 Q2362.39 1522.85 2365.44 1518.27 Q2368.52 1513.66 2374.33 1513.66 Z\" fill=\"#000000\" fill-rule=\"nonzero\" fill-opacity=\"1\" /><polyline clip-path=\"url(#clip252)\" style=\"stroke:#000000; stroke-linecap:round; stroke-linejoin:round; stroke-width:2; stroke-opacity:0.1; fill:none\" points=\"156.598,1486.45 2352.76,1486.45 \"/>\n",
       "<polyline clip-path=\"url(#clip252)\" style=\"stroke:#000000; stroke-linecap:round; stroke-linejoin:round; stroke-width:2; stroke-opacity:0.1; fill:none\" points=\"156.598,1213.85 2352.76,1213.85 \"/>\n",
       "<polyline clip-path=\"url(#clip252)\" style=\"stroke:#000000; stroke-linecap:round; stroke-linejoin:round; stroke-width:2; stroke-opacity:0.1; fill:none\" points=\"156.598,941.258 2352.76,941.258 \"/>\n",
       "<polyline clip-path=\"url(#clip252)\" style=\"stroke:#000000; stroke-linecap:round; stroke-linejoin:round; stroke-width:2; stroke-opacity:0.1; fill:none\" points=\"156.598,668.662 2352.76,668.662 \"/>\n",
       "<polyline clip-path=\"url(#clip252)\" style=\"stroke:#000000; stroke-linecap:round; stroke-linejoin:round; stroke-width:2; stroke-opacity:0.1; fill:none\" points=\"156.598,396.067 2352.76,396.067 \"/>\n",
       "<polyline clip-path=\"url(#clip252)\" style=\"stroke:#000000; stroke-linecap:round; stroke-linejoin:round; stroke-width:2; stroke-opacity:0.1; fill:none\" points=\"156.598,123.472 2352.76,123.472 \"/>\n",
       "<polyline clip-path=\"url(#clip250)\" style=\"stroke:#000000; stroke-linecap:round; stroke-linejoin:round; stroke-width:4; stroke-opacity:1; fill:none\" points=\"156.598,1486.45 156.598,123.472 \"/>\n",
       "<polyline clip-path=\"url(#clip250)\" style=\"stroke:#000000; stroke-linecap:round; stroke-linejoin:round; stroke-width:4; stroke-opacity:1; fill:none\" points=\"156.598,1486.45 175.496,1486.45 \"/>\n",
       "<polyline clip-path=\"url(#clip250)\" style=\"stroke:#000000; stroke-linecap:round; stroke-linejoin:round; stroke-width:4; stroke-opacity:1; fill:none\" points=\"156.598,1213.85 175.496,1213.85 \"/>\n",
       "<polyline clip-path=\"url(#clip250)\" style=\"stroke:#000000; stroke-linecap:round; stroke-linejoin:round; stroke-width:4; stroke-opacity:1; fill:none\" points=\"156.598,941.258 175.496,941.258 \"/>\n",
       "<polyline clip-path=\"url(#clip250)\" style=\"stroke:#000000; stroke-linecap:round; stroke-linejoin:round; stroke-width:4; stroke-opacity:1; fill:none\" points=\"156.598,668.662 175.496,668.662 \"/>\n",
       "<polyline clip-path=\"url(#clip250)\" style=\"stroke:#000000; stroke-linecap:round; stroke-linejoin:round; stroke-width:4; stroke-opacity:1; fill:none\" points=\"156.598,396.067 175.496,396.067 \"/>\n",
       "<polyline clip-path=\"url(#clip250)\" style=\"stroke:#000000; stroke-linecap:round; stroke-linejoin:round; stroke-width:4; stroke-opacity:1; fill:none\" points=\"156.598,123.472 175.496,123.472 \"/>\n",
       "<path clip-path=\"url(#clip250)\" d=\"M63.4226 1472.25 Q59.8115 1472.25 57.9828 1475.81 Q56.1773 1479.35 56.1773 1486.48 Q56.1773 1493.59 57.9828 1497.15 Q59.8115 1500.7 63.4226 1500.7 Q67.0569 1500.7 68.8624 1497.15 Q70.6911 1493.59 70.6911 1486.48 Q70.6911 1479.35 68.8624 1475.81 Q67.0569 1472.25 63.4226 1472.25 M63.4226 1468.54 Q69.2328 1468.54 72.2883 1473.15 Q75.367 1477.73 75.367 1486.48 Q75.367 1495.21 72.2883 1499.82 Q69.2328 1504.4 63.4226 1504.4 Q57.6125 1504.4 54.5338 1499.82 Q51.4782 1495.21 51.4782 1486.48 Q51.4782 1477.73 54.5338 1473.15 Q57.6125 1468.54 63.4226 1468.54 Z\" fill=\"#000000\" fill-rule=\"nonzero\" fill-opacity=\"1\" /><path clip-path=\"url(#clip250)\" d=\"M83.5845 1497.85 L88.4688 1497.85 L88.4688 1503.73 L83.5845 1503.73 L83.5845 1497.85 Z\" fill=\"#000000\" fill-rule=\"nonzero\" fill-opacity=\"1\" /><path clip-path=\"url(#clip250)\" d=\"M108.654 1472.25 Q105.043 1472.25 103.214 1475.81 Q101.409 1479.35 101.409 1486.48 Q101.409 1493.59 103.214 1497.15 Q105.043 1500.7 108.654 1500.7 Q112.288 1500.7 114.094 1497.15 Q115.922 1493.59 115.922 1486.48 Q115.922 1479.35 114.094 1475.81 Q112.288 1472.25 108.654 1472.25 M108.654 1468.54 Q114.464 1468.54 117.52 1473.15 Q120.598 1477.73 120.598 1486.48 Q120.598 1495.21 117.52 1499.82 Q114.464 1504.4 108.654 1504.4 Q102.844 1504.4 99.765 1499.82 Q96.7095 1495.21 96.7095 1486.48 Q96.7095 1477.73 99.765 1473.15 Q102.844 1468.54 108.654 1468.54 Z\" fill=\"#000000\" fill-rule=\"nonzero\" fill-opacity=\"1\" /><path clip-path=\"url(#clip250)\" d=\"M65.0198 1199.65 Q61.4087 1199.65 59.58 1203.22 Q57.7745 1206.76 57.7745 1213.89 Q57.7745 1220.99 59.58 1224.56 Q61.4087 1228.1 65.0198 1228.1 Q68.6541 1228.1 70.4596 1224.56 Q72.2883 1220.99 72.2883 1213.89 Q72.2883 1206.76 70.4596 1203.22 Q68.6541 1199.65 65.0198 1199.65 M65.0198 1195.95 Q70.83 1195.95 73.8855 1200.55 Q76.9642 1205.14 76.9642 1213.89 Q76.9642 1222.61 73.8855 1227.22 Q70.83 1231.8 65.0198 1231.8 Q59.2097 1231.8 56.131 1227.22 Q53.0754 1222.61 53.0754 1213.89 Q53.0754 1205.14 56.131 1200.55 Q59.2097 1195.95 65.0198 1195.95 Z\" fill=\"#000000\" fill-rule=\"nonzero\" fill-opacity=\"1\" /><path clip-path=\"url(#clip250)\" d=\"M85.1818 1225.25 L90.066 1225.25 L90.066 1231.13 L85.1818 1231.13 L85.1818 1225.25 Z\" fill=\"#000000\" fill-rule=\"nonzero\" fill-opacity=\"1\" /><path clip-path=\"url(#clip250)\" d=\"M104.279 1227.2 L120.598 1227.2 L120.598 1231.13 L98.6539 1231.13 L98.6539 1227.2 Q101.316 1224.44 105.899 1219.81 Q110.506 1215.16 111.686 1213.82 Q113.932 1211.29 114.811 1209.56 Q115.714 1207.8 115.714 1206.11 Q115.714 1203.36 113.77 1201.62 Q111.848 1199.88 108.746 1199.88 Q106.547 1199.88 104.094 1200.65 Q101.663 1201.41 98.8854 1202.96 L98.8854 1198.24 Q101.709 1197.11 104.163 1196.53 Q106.617 1195.95 108.654 1195.95 Q114.024 1195.95 117.219 1198.63 Q120.413 1201.32 120.413 1205.81 Q120.413 1207.94 119.603 1209.86 Q118.816 1211.76 116.709 1214.35 Q116.131 1215.02 113.029 1218.24 Q109.927 1221.43 104.279 1227.2 Z\" fill=\"#000000\" fill-rule=\"nonzero\" fill-opacity=\"1\" /><path clip-path=\"url(#clip250)\" d=\"M62.9365 927.056 Q59.3254 927.056 57.4967 930.621 Q55.6912 934.163 55.6912 941.292 Q55.6912 948.399 57.4967 951.964 Q59.3254 955.505 62.9365 955.505 Q66.5707 955.505 68.3763 951.964 Q70.205 948.399 70.205 941.292 Q70.205 934.163 68.3763 930.621 Q66.5707 927.056 62.9365 927.056 M62.9365 923.353 Q68.7467 923.353 71.8022 927.959 Q74.8809 932.542 74.8809 941.292 Q74.8809 950.019 71.8022 954.626 Q68.7467 959.209 62.9365 959.209 Q57.1264 959.209 54.0477 954.626 Q50.9921 950.019 50.9921 941.292 Q50.9921 932.542 54.0477 927.959 Q57.1264 923.353 62.9365 923.353 Z\" fill=\"#000000\" fill-rule=\"nonzero\" fill-opacity=\"1\" /><path clip-path=\"url(#clip250)\" d=\"M83.0984 952.658 L87.9827 952.658 L87.9827 958.538 L83.0984 958.538 L83.0984 952.658 Z\" fill=\"#000000\" fill-rule=\"nonzero\" fill-opacity=\"1\" /><path clip-path=\"url(#clip250)\" d=\"M111.015 928.052 L99.2095 946.501 L111.015 946.501 L111.015 928.052 M109.788 923.978 L115.668 923.978 L115.668 946.501 L120.598 946.501 L120.598 950.389 L115.668 950.389 L115.668 958.538 L111.015 958.538 L111.015 950.389 L95.4132 950.389 L95.4132 945.876 L109.788 923.978 Z\" fill=\"#000000\" fill-rule=\"nonzero\" fill-opacity=\"1\" /><path clip-path=\"url(#clip250)\" d=\"M63.2606 654.461 Q59.6495 654.461 57.8208 658.026 Q56.0152 661.568 56.0152 668.697 Q56.0152 675.804 57.8208 679.368 Q59.6495 682.91 63.2606 682.91 Q66.8948 682.91 68.7004 679.368 Q70.5291 675.804 70.5291 668.697 Q70.5291 661.568 68.7004 658.026 Q66.8948 654.461 63.2606 654.461 M63.2606 650.757 Q69.0707 650.757 72.1263 655.364 Q75.205 659.947 75.205 668.697 Q75.205 677.424 72.1263 682.03 Q69.0707 686.614 63.2606 686.614 Q57.4504 686.614 54.3717 682.03 Q51.3162 677.424 51.3162 668.697 Q51.3162 659.947 54.3717 655.364 Q57.4504 650.757 63.2606 650.757 Z\" fill=\"#000000\" fill-rule=\"nonzero\" fill-opacity=\"1\" /><path clip-path=\"url(#clip250)\" d=\"M83.4225 680.063 L88.3067 680.063 L88.3067 685.942 L83.4225 685.942 L83.4225 680.063 Z\" fill=\"#000000\" fill-rule=\"nonzero\" fill-opacity=\"1\" /><path clip-path=\"url(#clip250)\" d=\"M109.071 666.799 Q105.922 666.799 104.071 668.952 Q102.242 671.105 102.242 674.855 Q102.242 678.581 104.071 680.757 Q105.922 682.91 109.071 682.91 Q112.219 682.91 114.047 680.757 Q115.899 678.581 115.899 674.855 Q115.899 671.105 114.047 668.952 Q112.219 666.799 109.071 666.799 M118.353 652.146 L118.353 656.406 Q116.594 655.572 114.788 655.132 Q113.006 654.693 111.246 654.693 Q106.617 654.693 104.163 657.818 Q101.733 660.943 101.385 667.262 Q102.751 665.248 104.811 664.183 Q106.871 663.095 109.348 663.095 Q114.557 663.095 117.566 666.267 Q120.598 669.415 120.598 674.855 Q120.598 680.179 117.45 683.396 Q114.302 686.614 109.071 686.614 Q103.075 686.614 99.9039 682.03 Q96.7326 677.424 96.7326 668.697 Q96.7326 660.503 100.621 655.642 Q104.51 650.757 111.061 650.757 Q112.82 650.757 114.603 651.105 Q116.408 651.452 118.353 652.146 Z\" fill=\"#000000\" fill-rule=\"nonzero\" fill-opacity=\"1\" /><path clip-path=\"url(#clip250)\" d=\"M63.5152 381.866 Q59.9041 381.866 58.0754 385.431 Q56.2699 388.972 56.2699 396.102 Q56.2699 403.208 58.0754 406.773 Q59.9041 410.315 63.5152 410.315 Q67.1494 410.315 68.955 406.773 Q70.7837 403.208 70.7837 396.102 Q70.7837 388.972 68.955 385.431 Q67.1494 381.866 63.5152 381.866 M63.5152 378.162 Q69.3254 378.162 72.3809 382.769 Q75.4596 387.352 75.4596 396.102 Q75.4596 404.829 72.3809 409.435 Q69.3254 414.019 63.5152 414.019 Q57.7051 414.019 54.6264 409.435 Q51.5708 404.829 51.5708 396.102 Q51.5708 387.352 54.6264 382.769 Q57.7051 378.162 63.5152 378.162 Z\" fill=\"#000000\" fill-rule=\"nonzero\" fill-opacity=\"1\" /><path clip-path=\"url(#clip250)\" d=\"M83.6771 407.468 L88.5614 407.468 L88.5614 413.347 L83.6771 413.347 L83.6771 407.468 Z\" fill=\"#000000\" fill-rule=\"nonzero\" fill-opacity=\"1\" /><path clip-path=\"url(#clip250)\" d=\"M108.746 396.935 Q105.413 396.935 103.492 398.718 Q101.594 400.5 101.594 403.625 Q101.594 406.75 103.492 408.532 Q105.413 410.315 108.746 410.315 Q112.08 410.315 114.001 408.532 Q115.922 406.727 115.922 403.625 Q115.922 400.5 114.001 398.718 Q112.103 396.935 108.746 396.935 M104.071 394.945 Q101.061 394.204 99.3715 392.144 Q97.7048 390.084 97.7048 387.121 Q97.7048 382.977 100.645 380.57 Q103.608 378.162 108.746 378.162 Q113.908 378.162 116.848 380.57 Q119.788 382.977 119.788 387.121 Q119.788 390.084 118.098 392.144 Q116.432 394.204 113.445 394.945 Q116.825 395.732 118.7 398.023 Q120.598 400.315 120.598 403.625 Q120.598 408.648 117.52 411.333 Q114.464 414.019 108.746 414.019 Q103.029 414.019 99.9502 411.333 Q96.8947 408.648 96.8947 403.625 Q96.8947 400.315 98.7928 398.023 Q100.691 395.732 104.071 394.945 M102.358 387.56 Q102.358 390.246 104.024 391.75 Q105.714 393.255 108.746 393.255 Q111.756 393.255 113.445 391.75 Q115.158 390.246 115.158 387.56 Q115.158 384.875 113.445 383.371 Q111.756 381.866 108.746 381.866 Q105.714 381.866 104.024 383.371 Q102.358 384.875 102.358 387.56 Z\" fill=\"#000000\" fill-rule=\"nonzero\" fill-opacity=\"1\" /><path clip-path=\"url(#clip250)\" d=\"M54.2328 136.817 L61.8717 136.817 L61.8717 110.451 L53.5616 112.118 L53.5616 107.859 L61.8254 106.192 L66.5013 106.192 L66.5013 136.817 L74.1402 136.817 L74.1402 140.752 L54.2328 140.752 L54.2328 136.817 Z\" fill=\"#000000\" fill-rule=\"nonzero\" fill-opacity=\"1\" /><path clip-path=\"url(#clip250)\" d=\"M83.5845 134.873 L88.4688 134.873 L88.4688 140.752 L83.5845 140.752 L83.5845 134.873 Z\" fill=\"#000000\" fill-rule=\"nonzero\" fill-opacity=\"1\" /><path clip-path=\"url(#clip250)\" d=\"M108.654 109.271 Q105.043 109.271 103.214 112.836 Q101.409 116.377 101.409 123.507 Q101.409 130.613 103.214 134.178 Q105.043 137.72 108.654 137.72 Q112.288 137.72 114.094 134.178 Q115.922 130.613 115.922 123.507 Q115.922 116.377 114.094 112.836 Q112.288 109.271 108.654 109.271 M108.654 105.567 Q114.464 105.567 117.52 110.174 Q120.598 114.757 120.598 123.507 Q120.598 132.234 117.52 136.84 Q114.464 141.423 108.654 141.423 Q102.844 141.423 99.765 136.84 Q96.7095 132.234 96.7095 123.507 Q96.7095 114.757 99.765 110.174 Q102.844 105.567 108.654 105.567 Z\" fill=\"#000000\" fill-rule=\"nonzero\" fill-opacity=\"1\" /><path clip-path=\"url(#clip250)\" d=\"M602.178 43.6931 L602.178 65.8515 L615.303 65.8515 Q621.906 65.8515 625.065 63.1374 Q628.265 60.3828 628.265 54.752 Q628.265 49.0808 625.065 46.4072 Q621.906 43.6931 615.303 43.6931 L602.178 43.6931 M602.178 18.8205 L602.178 37.0496 L614.29 37.0496 Q620.285 37.0496 623.202 34.8216 Q626.159 32.5531 626.159 27.935 Q626.159 23.3575 623.202 21.089 Q620.285 18.8205 614.29 18.8205 L602.178 18.8205 M593.995 12.096 L614.898 12.096 Q624.255 12.096 629.319 15.9849 Q634.382 19.8737 634.382 27.0438 Q634.382 32.5936 631.79 35.8748 Q629.197 39.156 624.174 39.9662 Q630.21 41.2625 633.532 45.3944 Q636.894 49.4858 636.894 55.6432 Q636.894 63.745 631.385 68.1605 Q625.875 72.576 615.708 72.576 L593.995 72.576 L593.995 12.096 Z\" fill=\"#000000\" fill-rule=\"nonzero\" fill-opacity=\"1\" /><path clip-path=\"url(#clip250)\" d=\"M689.394 48.0275 L689.394 51.6733 L655.123 51.6733 Q655.609 59.3701 659.741 63.421 Q663.913 67.4314 671.327 67.4314 Q675.621 67.4314 679.631 66.3781 Q683.682 65.3249 687.652 63.2184 L687.652 70.267 Q683.641 71.9684 679.428 72.8596 Q675.215 73.7508 670.881 73.7508 Q660.025 73.7508 653.665 67.4314 Q647.345 61.1119 647.345 50.3365 Q647.345 39.1965 653.341 32.6746 Q659.376 26.1121 669.585 26.1121 Q678.74 26.1121 684.046 32.0264 Q689.394 37.9003 689.394 48.0275 M681.94 45.84 Q681.859 39.7232 678.497 36.0774 Q675.175 32.4315 669.666 32.4315 Q663.427 32.4315 659.66 35.9558 Q655.933 39.4801 655.366 45.8805 L681.94 45.84 Z\" fill=\"#000000\" fill-rule=\"nonzero\" fill-opacity=\"1\" /><path clip-path=\"url(#clip250)\" d=\"M730.551 28.5427 L730.551 35.5912 Q727.391 33.9709 723.988 33.1607 Q720.586 32.3505 716.94 32.3505 Q711.39 32.3505 708.595 34.0519 Q705.84 35.7533 705.84 39.156 Q705.84 41.7486 707.825 43.2475 Q709.81 44.7058 715.806 46.0426 L718.358 46.6097 Q726.297 48.3111 729.619 51.4303 Q732.981 54.509 732.981 60.0587 Q732.981 66.3781 727.958 70.0644 Q722.976 73.7508 714.226 73.7508 Q710.58 73.7508 706.61 73.0216 Q702.681 72.3329 698.306 70.9151 L698.306 63.2184 Q702.438 65.3654 706.448 66.4591 Q710.458 67.5124 714.388 67.5124 Q719.654 67.5124 722.49 65.73 Q725.325 63.9071 725.325 60.6258 Q725.325 57.5877 723.259 55.9673 Q721.234 54.3469 714.307 52.8481 L711.714 52.2405 Q704.787 50.7821 701.708 47.7845 Q698.63 44.7463 698.63 39.4801 Q698.63 33.0797 703.167 29.5959 Q707.704 26.1121 716.049 26.1121 Q720.181 26.1121 723.826 26.7198 Q727.472 27.3274 730.551 28.5427 Z\" fill=\"#000000\" fill-rule=\"nonzero\" fill-opacity=\"1\" /><path clip-path=\"url(#clip250)\" d=\"M773.774 28.5427 L773.774 35.5912 Q770.614 33.9709 767.212 33.1607 Q763.809 32.3505 760.163 32.3505 Q754.613 32.3505 751.818 34.0519 Q749.063 35.7533 749.063 39.156 Q749.063 41.7486 751.048 43.2475 Q753.033 44.7058 759.029 46.0426 L761.581 46.6097 Q769.521 48.3111 772.842 51.4303 Q776.205 54.509 776.205 60.0587 Q776.205 66.3781 771.181 70.0644 Q766.199 73.7508 757.449 73.7508 Q753.803 73.7508 749.833 73.0216 Q745.904 72.3329 741.529 70.9151 L741.529 63.2184 Q745.661 65.3654 749.671 66.4591 Q753.681 67.5124 757.611 67.5124 Q762.877 67.5124 765.713 65.73 Q768.548 63.9071 768.548 60.6258 Q768.548 57.5877 766.482 55.9673 Q764.457 54.3469 757.53 52.8481 L754.937 52.2405 Q748.01 50.7821 744.932 47.7845 Q741.853 44.7463 741.853 39.4801 Q741.853 33.0797 746.39 29.5959 Q750.927 26.1121 759.272 26.1121 Q763.404 26.1121 767.049 26.7198 Q770.695 27.3274 773.774 28.5427 Z\" fill=\"#000000\" fill-rule=\"nonzero\" fill-opacity=\"1\" /><path clip-path=\"url(#clip250)\" d=\"M826.881 48.0275 L826.881 51.6733 L792.611 51.6733 Q793.097 59.3701 797.229 63.421 Q801.401 67.4314 808.814 67.4314 Q813.108 67.4314 817.119 66.3781 Q821.17 65.3249 825.139 63.2184 L825.139 70.267 Q821.129 71.9684 816.916 72.8596 Q812.703 73.7508 808.369 73.7508 Q797.512 73.7508 791.152 67.4314 Q784.833 61.1119 784.833 50.3365 Q784.833 39.1965 790.828 32.6746 Q796.864 26.1121 807.072 26.1121 Q816.227 26.1121 821.534 32.0264 Q826.881 37.9003 826.881 48.0275 M819.428 45.84 Q819.347 39.7232 815.984 36.0774 Q812.663 32.4315 807.153 32.4315 Q800.915 32.4315 797.148 35.9558 Q793.421 39.4801 792.854 45.8805 L819.428 45.84 Z\" fill=\"#000000\" fill-rule=\"nonzero\" fill-opacity=\"1\" /><path clip-path=\"url(#clip250)\" d=\"M839.115 9.54393 L846.569 9.54393 L846.569 72.576 L839.115 72.576 L839.115 9.54393 Z\" fill=\"#000000\" fill-rule=\"nonzero\" fill-opacity=\"1\" /><path clip-path=\"url(#clip250)\" d=\"M911.505 9.54393 L911.505 15.7418 L904.375 15.7418 Q900.365 15.7418 898.785 17.3622 Q897.246 18.9825 897.246 23.1955 L897.246 27.2059 L909.52 27.2059 L909.52 32.9987 L897.246 32.9987 L897.246 72.576 L889.751 72.576 L889.751 32.9987 L882.622 32.9987 L882.622 27.2059 L889.751 27.2059 L889.751 24.0462 Q889.751 16.471 893.276 13.0277 Q896.8 9.54393 904.456 9.54393 L911.505 9.54393 Z\" fill=\"#000000\" fill-rule=\"nonzero\" fill-opacity=\"1\" /><path clip-path=\"url(#clip250)\" d=\"M916.973 54.671 L916.973 27.2059 L924.427 27.2059 L924.427 54.3874 Q924.427 60.8284 926.939 64.0691 Q929.45 67.2693 934.473 67.2693 Q940.509 67.2693 943.993 63.421 Q947.517 59.5726 947.517 52.9291 L947.517 27.2059 L954.971 27.2059 L954.971 72.576 L947.517 72.576 L947.517 65.6084 Q944.803 69.7404 941.198 71.7658 Q937.633 73.7508 932.893 73.7508 Q925.075 73.7508 921.024 68.8897 Q916.973 64.0286 916.973 54.671 M935.729 26.1121 L935.729 26.1121 Z\" fill=\"#000000\" fill-rule=\"nonzero\" fill-opacity=\"1\" /><path clip-path=\"url(#clip250)\" d=\"M1008.04 45.1919 L1008.04 72.576 L1000.58 72.576 L1000.58 45.4349 Q1000.58 38.994 998.073 35.7938 Q995.561 32.5936 990.538 32.5936 Q984.502 32.5936 981.018 36.4419 Q977.534 40.2903 977.534 46.9338 L977.534 72.576 L970.04 72.576 L970.04 27.2059 L977.534 27.2059 L977.534 34.2544 Q980.208 30.163 983.813 28.1376 Q987.459 26.1121 992.199 26.1121 Q1000.02 26.1121 1004.03 30.9732 Q1008.04 35.7938 1008.04 45.1919 Z\" fill=\"#000000\" fill-rule=\"nonzero\" fill-opacity=\"1\" /><path clip-path=\"url(#clip250)\" d=\"M1055.55 28.9478 L1055.55 35.9153 Q1052.4 34.1734 1049.19 33.3227 Q1046.04 32.4315 1042.79 32.4315 Q1035.54 32.4315 1031.53 37.0496 Q1027.52 41.6271 1027.52 49.9314 Q1027.52 58.2358 1031.53 62.8538 Q1035.54 67.4314 1042.79 67.4314 Q1046.04 67.4314 1049.19 66.5807 Q1052.4 65.6895 1055.55 63.9476 L1055.55 70.8341 Q1052.44 72.2924 1049.07 73.0216 Q1045.75 73.7508 1041.98 73.7508 Q1031.74 73.7508 1025.7 67.3098 Q1019.66 60.8689 1019.66 49.9314 Q1019.66 38.832 1025.74 32.472 Q1031.86 26.1121 1042.47 26.1121 Q1045.91 26.1121 1049.19 26.8413 Q1052.48 27.5299 1055.55 28.9478 Z\" fill=\"#000000\" fill-rule=\"nonzero\" fill-opacity=\"1\" /><path clip-path=\"url(#clip250)\" d=\"M1075.89 14.324 L1075.89 27.2059 L1091.24 27.2059 L1091.24 32.9987 L1075.89 32.9987 L1075.89 57.6282 Q1075.89 63.1779 1077.39 64.7578 Q1078.93 66.3376 1083.59 66.3376 L1091.24 66.3376 L1091.24 72.576 L1083.59 72.576 Q1074.96 72.576 1071.68 69.3758 Q1068.4 66.1351 1068.4 57.6282 L1068.4 32.9987 L1062.93 32.9987 L1062.93 27.2059 L1068.4 27.2059 L1068.4 14.324 L1075.89 14.324 Z\" fill=\"#000000\" fill-rule=\"nonzero\" fill-opacity=\"1\" /><path clip-path=\"url(#clip250)\" d=\"M1101.05 27.2059 L1108.5 27.2059 L1108.5 72.576 L1101.05 72.576 L1101.05 27.2059 M1101.05 9.54393 L1108.5 9.54393 L1108.5 18.9825 L1101.05 18.9825 L1101.05 9.54393 Z\" fill=\"#000000\" fill-rule=\"nonzero\" fill-opacity=\"1\" /><path clip-path=\"url(#clip250)\" d=\"M1141.68 32.4315 Q1135.68 32.4315 1132.2 37.1306 Q1128.71 41.7891 1128.71 49.9314 Q1128.71 58.0738 1132.16 62.7728 Q1135.64 67.4314 1141.68 67.4314 Q1147.63 67.4314 1151.12 62.7323 Q1154.6 58.0333 1154.6 49.9314 Q1154.6 41.8701 1151.12 37.1711 Q1147.63 32.4315 1141.68 32.4315 M1141.68 26.1121 Q1151.4 26.1121 1156.95 32.4315 Q1162.5 38.7509 1162.5 49.9314 Q1162.5 61.0714 1156.95 67.4314 Q1151.4 73.7508 1141.68 73.7508 Q1131.91 73.7508 1126.36 67.4314 Q1120.86 61.0714 1120.86 49.9314 Q1120.86 38.7509 1126.36 32.4315 Q1131.91 26.1121 1141.68 26.1121 Z\" fill=\"#000000\" fill-rule=\"nonzero\" fill-opacity=\"1\" /><path clip-path=\"url(#clip250)\" d=\"M1212.57 45.1919 L1212.57 72.576 L1205.11 72.576 L1205.11 45.4349 Q1205.11 38.994 1202.6 35.7938 Q1200.09 32.5936 1195.07 32.5936 Q1189.03 32.5936 1185.55 36.4419 Q1182.06 40.2903 1182.06 46.9338 L1182.06 72.576 L1174.57 72.576 L1174.57 27.2059 L1182.06 27.2059 L1182.06 34.2544 Q1184.74 30.163 1188.34 28.1376 Q1191.99 26.1121 1196.73 26.1121 Q1204.55 26.1121 1208.56 30.9732 Q1212.57 35.7938 1212.57 45.1919 Z\" fill=\"#000000\" fill-rule=\"nonzero\" fill-opacity=\"1\" /><path clip-path=\"url(#clip250)\" d=\"M1256.36 28.5427 L1256.36 35.5912 Q1253.2 33.9709 1249.8 33.1607 Q1246.39 32.3505 1242.75 32.3505 Q1237.2 32.3505 1234.4 34.0519 Q1231.65 35.7533 1231.65 39.156 Q1231.65 41.7486 1233.63 43.2475 Q1235.62 44.7058 1241.61 46.0426 L1244.16 46.6097 Q1252.1 48.3111 1255.43 51.4303 Q1258.79 54.509 1258.79 60.0587 Q1258.79 66.3781 1253.77 70.0644 Q1248.78 73.7508 1240.03 73.7508 Q1236.39 73.7508 1232.42 73.0216 Q1228.49 72.3329 1224.11 70.9151 L1224.11 63.2184 Q1228.24 65.3654 1232.26 66.4591 Q1236.27 67.5124 1240.2 67.5124 Q1245.46 67.5124 1248.3 65.73 Q1251.13 63.9071 1251.13 60.6258 Q1251.13 57.5877 1249.07 55.9673 Q1247.04 54.3469 1240.11 52.8481 L1237.52 52.2405 Q1230.59 50.7821 1227.52 47.7845 Q1224.44 44.7463 1224.44 39.4801 Q1224.44 33.0797 1228.97 29.5959 Q1233.51 26.1121 1241.86 26.1121 Q1245.99 26.1121 1249.63 26.7198 Q1253.28 27.3274 1256.36 28.5427 Z\" fill=\"#000000\" fill-rule=\"nonzero\" fill-opacity=\"1\" /><path clip-path=\"url(#clip250)\" d=\"M1314.61 32.4315 Q1308.61 32.4315 1305.13 37.1306 Q1301.65 41.7891 1301.65 49.9314 Q1301.65 58.0738 1305.09 62.7728 Q1308.57 67.4314 1314.61 67.4314 Q1320.57 67.4314 1324.05 62.7323 Q1327.53 58.0333 1327.53 49.9314 Q1327.53 41.8701 1324.05 37.1711 Q1320.57 32.4315 1314.61 32.4315 M1314.61 26.1121 Q1324.33 26.1121 1329.88 32.4315 Q1335.43 38.7509 1335.43 49.9314 Q1335.43 61.0714 1329.88 67.4314 Q1324.33 73.7508 1314.61 73.7508 Q1304.85 73.7508 1299.3 67.4314 Q1293.79 61.0714 1293.79 49.9314 Q1293.79 38.7509 1299.3 32.4315 Q1304.85 26.1121 1314.61 26.1121 Z\" fill=\"#000000\" fill-rule=\"nonzero\" fill-opacity=\"1\" /><path clip-path=\"url(#clip250)\" d=\"M1370.76 9.54393 L1370.76 15.7418 L1363.63 15.7418 Q1359.62 15.7418 1358.04 17.3622 Q1356.5 18.9825 1356.5 23.1955 L1356.5 27.2059 L1368.77 27.2059 L1368.77 32.9987 L1356.5 32.9987 L1356.5 72.576 L1349 72.576 L1349 32.9987 L1341.87 32.9987 L1341.87 27.2059 L1349 27.2059 L1349 24.0462 Q1349 16.471 1352.53 13.0277 Q1356.05 9.54393 1363.71 9.54393 L1370.76 9.54393 Z\" fill=\"#000000\" fill-rule=\"nonzero\" fill-opacity=\"1\" /><path clip-path=\"url(#clip250)\" d=\"M1410.74 14.324 L1410.74 27.2059 L1426.09 27.2059 L1426.09 32.9987 L1410.74 32.9987 L1410.74 57.6282 Q1410.74 63.1779 1412.24 64.7578 Q1413.78 66.3376 1418.43 66.3376 L1426.09 66.3376 L1426.09 72.576 L1418.43 72.576 Q1409.81 72.576 1406.53 69.3758 Q1403.24 66.1351 1403.24 57.6282 L1403.24 32.9987 L1397.78 32.9987 L1397.78 27.2059 L1403.24 27.2059 L1403.24 14.324 L1410.74 14.324 Z\" fill=\"#000000\" fill-rule=\"nonzero\" fill-opacity=\"1\" /><path clip-path=\"url(#clip250)\" d=\"M1473.61 45.1919 L1473.61 72.576 L1466.15 72.576 L1466.15 45.4349 Q1466.15 38.994 1463.64 35.7938 Q1461.13 32.5936 1456.11 32.5936 Q1450.07 32.5936 1446.59 36.4419 Q1443.1 40.2903 1443.1 46.9338 L1443.1 72.576 L1435.61 72.576 L1435.61 9.54393 L1443.1 9.54393 L1443.1 34.2544 Q1445.78 30.163 1449.38 28.1376 Q1453.03 26.1121 1457.77 26.1121 Q1465.59 26.1121 1469.6 30.9732 Q1473.61 35.7938 1473.61 45.1919 Z\" fill=\"#000000\" fill-rule=\"nonzero\" fill-opacity=\"1\" /><path clip-path=\"url(#clip250)\" d=\"M1527.28 48.0275 L1527.28 51.6733 L1493.01 51.6733 Q1493.5 59.3701 1497.63 63.421 Q1501.8 67.4314 1509.22 67.4314 Q1513.51 67.4314 1517.52 66.3781 Q1521.57 65.3249 1525.54 63.2184 L1525.54 70.267 Q1521.53 71.9684 1517.32 72.8596 Q1513.1 73.7508 1508.77 73.7508 Q1497.91 73.7508 1491.55 67.4314 Q1485.23 61.1119 1485.23 50.3365 Q1485.23 39.1965 1491.23 32.6746 Q1497.27 26.1121 1507.47 26.1121 Q1516.63 26.1121 1521.94 32.0264 Q1527.28 37.9003 1527.28 48.0275 M1519.83 45.84 Q1519.75 39.7232 1516.39 36.0774 Q1513.06 32.4315 1507.55 32.4315 Q1501.32 32.4315 1497.55 35.9558 Q1493.82 39.4801 1493.26 45.8805 L1519.83 45.84 Z\" fill=\"#000000\" fill-rule=\"nonzero\" fill-opacity=\"1\" /><path clip-path=\"url(#clip250)\" d=\"M1588.86 9.54393 L1588.86 15.7418 L1581.73 15.7418 Q1577.72 15.7418 1576.14 17.3622 Q1574.6 18.9825 1574.6 23.1955 L1574.6 27.2059 L1586.87 27.2059 L1586.87 32.9987 L1574.6 32.9987 L1574.6 72.576 L1567.1 72.576 L1567.1 32.9987 L1559.97 32.9987 L1559.97 27.2059 L1567.1 27.2059 L1567.1 24.0462 Q1567.1 16.471 1570.63 13.0277 Q1574.15 9.54393 1581.81 9.54393 L1588.86 9.54393 Z\" fill=\"#000000\" fill-rule=\"nonzero\" fill-opacity=\"1\" /><path clip-path=\"url(#clip250)\" d=\"M1595.09 27.2059 L1602.55 27.2059 L1602.55 72.576 L1595.09 72.576 L1595.09 27.2059 M1595.09 9.54393 L1602.55 9.54393 L1602.55 18.9825 L1595.09 18.9825 L1595.09 9.54393 Z\" fill=\"#000000\" fill-rule=\"nonzero\" fill-opacity=\"1\" /><path clip-path=\"url(#clip250)\" d=\"M1644.43 34.1734 Q1643.18 33.4443 1641.68 33.1202 Q1640.22 32.7556 1638.44 32.7556 Q1632.12 32.7556 1628.72 36.8875 Q1625.36 40.9789 1625.36 48.6757 L1625.36 72.576 L1617.86 72.576 L1617.86 27.2059 L1625.36 27.2059 L1625.36 34.2544 Q1627.7 30.1225 1631.47 28.1376 Q1635.24 26.1121 1640.63 26.1121 Q1641.4 26.1121 1642.33 26.2337 Q1643.26 26.3147 1644.39 26.5172 L1644.43 34.1734 Z\" fill=\"#000000\" fill-rule=\"nonzero\" fill-opacity=\"1\" /><path clip-path=\"url(#clip250)\" d=\"M1681.18 28.5427 L1681.18 35.5912 Q1678.02 33.9709 1674.61 33.1607 Q1671.21 32.3505 1667.57 32.3505 Q1662.02 32.3505 1659.22 34.0519 Q1656.47 35.7533 1656.47 39.156 Q1656.47 41.7486 1658.45 43.2475 Q1660.44 44.7058 1666.43 46.0426 L1668.98 46.6097 Q1676.92 48.3111 1680.24 51.4303 Q1683.61 54.509 1683.61 60.0587 Q1683.61 66.3781 1678.58 70.0644 Q1673.6 73.7508 1664.85 73.7508 Q1661.21 73.7508 1657.24 73.0216 Q1653.31 72.3329 1648.93 70.9151 L1648.93 63.2184 Q1653.06 65.3654 1657.07 66.4591 Q1661.08 67.5124 1665.01 67.5124 Q1670.28 67.5124 1673.12 65.73 Q1675.95 63.9071 1675.95 60.6258 Q1675.95 57.5877 1673.88 55.9673 Q1671.86 54.3469 1664.93 52.8481 L1662.34 52.2405 Q1655.41 50.7821 1652.33 47.7845 Q1649.26 44.7463 1649.26 39.4801 Q1649.26 33.0797 1653.79 29.5959 Q1658.33 26.1121 1666.67 26.1121 Q1670.81 26.1121 1674.45 26.7198 Q1678.1 27.3274 1681.18 28.5427 Z\" fill=\"#000000\" fill-rule=\"nonzero\" fill-opacity=\"1\" /><path clip-path=\"url(#clip250)\" d=\"M1702.85 14.324 L1702.85 27.2059 L1718.2 27.2059 L1718.2 32.9987 L1702.85 32.9987 L1702.85 57.6282 Q1702.85 63.1779 1704.35 64.7578 Q1705.89 66.3376 1710.55 66.3376 L1718.2 66.3376 L1718.2 72.576 L1710.55 72.576 Q1701.92 72.576 1698.64 69.3758 Q1695.35 66.1351 1695.35 57.6282 L1695.35 32.9987 L1689.89 32.9987 L1689.89 27.2059 L1695.35 27.2059 L1695.35 14.324 L1702.85 14.324 Z\" fill=\"#000000\" fill-rule=\"nonzero\" fill-opacity=\"1\" /><path clip-path=\"url(#clip250)\" d=\"M1754.09 9.54393 L1761.59 9.54393 L1761.59 46.7717 L1783.83 27.2059 L1793.35 27.2059 L1769.28 48.4326 L1794.36 72.576 L1784.64 72.576 L1761.59 50.4176 L1761.59 72.576 L1754.09 72.576 L1754.09 9.54393 Z\" fill=\"#000000\" fill-rule=\"nonzero\" fill-opacity=\"1\" /><path clip-path=\"url(#clip250)\" d=\"M1802.42 27.2059 L1809.87 27.2059 L1809.87 72.576 L1802.42 72.576 L1802.42 27.2059 M1802.42 9.54393 L1809.87 9.54393 L1809.87 18.9825 L1802.42 18.9825 L1802.42 9.54393 Z\" fill=\"#000000\" fill-rule=\"nonzero\" fill-opacity=\"1\" /><path clip-path=\"url(#clip250)\" d=\"M1863.18 45.1919 L1863.18 72.576 L1855.73 72.576 L1855.73 45.4349 Q1855.73 38.994 1853.22 35.7938 Q1850.71 32.5936 1845.68 32.5936 Q1839.65 32.5936 1836.16 36.4419 Q1832.68 40.2903 1832.68 46.9338 L1832.68 72.576 L1825.19 72.576 L1825.19 27.2059 L1832.68 27.2059 L1832.68 34.2544 Q1835.35 30.163 1838.96 28.1376 Q1842.61 26.1121 1847.34 26.1121 Q1855.16 26.1121 1859.17 30.9732 Q1863.18 35.7938 1863.18 45.1919 Z\" fill=\"#000000\" fill-rule=\"nonzero\" fill-opacity=\"1\" /><path clip-path=\"url(#clip250)\" d=\"M1907.91 34.0924 L1907.91 9.54393 L1915.36 9.54393 L1915.36 72.576 L1907.91 72.576 L1907.91 65.7705 Q1905.56 69.8214 1901.95 71.8063 Q1898.39 73.7508 1893.36 73.7508 Q1885.14 73.7508 1879.95 67.1883 Q1874.81 60.6258 1874.81 49.9314 Q1874.81 39.2371 1879.95 32.6746 Q1885.14 26.1121 1893.36 26.1121 Q1898.39 26.1121 1901.95 28.0971 Q1905.56 30.0415 1907.91 34.0924 M1882.51 49.9314 Q1882.51 58.1548 1885.87 62.8538 Q1889.27 67.5124 1895.19 67.5124 Q1901.1 67.5124 1904.5 62.8538 Q1907.91 58.1548 1907.91 49.9314 Q1907.91 41.7081 1904.5 37.0496 Q1901.1 32.3505 1895.19 32.3505 Q1889.27 32.3505 1885.87 37.0496 Q1882.51 41.7081 1882.51 49.9314 Z\" fill=\"#000000\" fill-rule=\"nonzero\" fill-opacity=\"1\" /></svg>\n"
      ]
     },
     "metadata": {},
     "output_type": "display_data"
    }
   ],
   "source": [
    "import Pkg\n",
    "Pkg.add(\"Plots\")\n",
    "using Plots\n",
    "\n",
    "function bessel(n::Int, x::T) where T\n",
    "    @assert n >= 0\n",
    "    result = 0\n",
    "    term = (x/2)^n / factorial(n)\n",
    "    k = 0\n",
    "    while term != 0\n",
    "        result += (-1)^k * term\n",
    "        k += 1\n",
    "        term *= (x/2)^2 / (k * (n+k))\n",
    "    end\n",
    "    return result\n",
    "end\n",
    "\n",
    "x = range(0, stop=20, length=200)\n",
    "for n in 0:5\n",
    "    y = bessel.(n, x)\n",
    "    plot!(x, y, label=\"n=$n\")\n",
    "end\n",
    "display(plot(title=\"Bessel functions of the first kind\"))"
   ]
  },
  {
   "cell_type": "markdown",
   "id": "f830c3ec",
   "metadata": {},
   "source": [
    "Эта функция принимает в качестве аргументов целое неотрицательное число n, обозначающее порядок функции Бесселя, и значение аргумента x и возвращает значение функции Бесселя первого рода порядка n для аргумента x. Она использует рекуррентную формулу для вычисления каждого члена ряда Тейлора функции Бесселя и накопления суммы до тех пор, пока очередной член ряда не станет равным нулю в арифметике с плавающей точкой. Таким образом, функция возвращает значение функции Бесселя с максимально возможной точностью в арифметике с плавающей точкой.\n",
    "\n",
    "Кроме того, в коде приведен пример построения семейства графиков функций Бесселя первого рода для нескольких порядков, начиная с нулевого порядка. Для этого используется библиотека Plots и функция plot! для добавления графиков на один общий график. В конце вызывается функция display для отображения полученного графика."
   ]
  },
  {
   "cell_type": "markdown",
   "id": "00865d87",
   "metadata": {},
   "source": [
    "4. Реализовать алгорим, реализующий обратный ход алгоритма Жордана-Гаусса"
   ]
  },
  {
   "cell_type": "code",
   "execution_count": 10,
   "id": "223316ca",
   "metadata": {},
   "outputs": [
    {
     "data": {
      "text/plain": [
       "back_substitution (generic function with 1 method)"
      ]
     },
     "execution_count": 10,
     "metadata": {},
     "output_type": "execute_result"
    }
   ],
   "source": [
    "function back_substitution(A::Matrix{T}, b::Vector{T}) where T\n",
    "    n = length(b)\n",
    "    x = zeros(T, n)\n",
    "    for i in n:-1:1\n",
    "        s = zero(T)\n",
    "        for j in i+1:n\n",
    "            s += A[i,j] * x[j]\n",
    "        end\n",
    "        x[i] = (b[i] - s) / A[i,i]\n",
    "    end\n",
    "    return x\n",
    "end"
   ]
  },
  {
   "cell_type": "markdown",
   "id": "e9bb7a4a",
   "metadata": {},
   "source": [
    "Эта функция принимает в качестве аргументов матрицу A и вектор b и возвращает решение системы линейных уравнений Ax = b с помощью алгоритма обратного хода алгоритма Жордана-Гаусса. Она предполагает, что матрица A является верхнетреугольной и имеет ненулевые элементы на диагонали. Функция вычисляет значения неизвестных x с помощью обратного хода алгоритма Жордана-Гаусса и возвращает вектор x как результат."
   ]
  },
  {
   "cell_type": "markdown",
   "id": "14420038",
   "metadata": {},
   "source": [
    "5. Реализовать алгоритм, осуществляющий приведение матрицы матрицы к ступенчатому виду"
   ]
  },
  {
   "cell_type": "code",
   "execution_count": 11,
   "id": "ff7fca09",
   "metadata": {},
   "outputs": [
    {
     "data": {
      "text/plain": [
       "row_echelon_form (generic function with 1 method)"
      ]
     },
     "execution_count": 11,
     "metadata": {},
     "output_type": "execute_result"
    }
   ],
   "source": [
    "function row_echelon_form(A::Matrix{T}) where T\n",
    "    m, n = size(A)\n",
    "    r = 1\n",
    "    for j in 1:n\n",
    "        nonzero_row = findfirst(i -> A[i,j] != 0, r:m)\n",
    "        if nonzero_row !== nothing\n",
    "            nonzero_row += r - 1\n",
    "            A[[r,nonzero_row],:] = A[[nonzero_row,r],:]\n",
    "            A[r,:] /= A[r,j]\n",
    "            for i in r+1:m\n",
    "                A[i,:] -= A[i,j] * A[r,:]\n",
    "            end\n",
    "            r += 1\n",
    "        end\n",
    "    end\n",
    "    return A\n",
    "end"
   ]
  },
  {
   "cell_type": "markdown",
   "id": "226cd7c9",
   "metadata": {},
   "source": [
    "Эта функция принимает в качестве аргумента матрицу A и возвращает ее ступенчатый вид. Она использует алгоритм Гаусса для приведения матрицы к ступенчатому виду с помощью элементарных преобразований строк. Функция находит первую ненулевую строку в каждом столбце и меняет ее местами с текущей строкой. Затем она делит текущую строку на соответствующий элемент главной диагонали и вычитает ее из всех нижних строк, чтобы обнулить соответствующие элементы. В конце функция возвращает матрицу A в ступенчатом виде."
   ]
  },
  {
   "cell_type": "markdown",
   "id": "b044fd24",
   "metadata": {},
   "source": [
    "# Практика 5\n",
    "1. Реализовать функции, аналогичные встроенным функциям sort, sort!, sortperm, sortperm! на основе алгоритма сортировки вставками. При этом, при проектировании функциий, аналогичных функциям sort и sort!, требуется избежать повторного кодирования алгоритма сортировки. То же относится и к проектированию пары функций, аналогичных функциям sortperm, sortperm!"
   ]
  },
  {
   "cell_type": "code",
   "execution_count": 12,
   "id": "d09ff746",
   "metadata": {},
   "outputs": [
    {
     "data": {
      "text/plain": [
       "insertion_sortperm (generic function with 1 method)"
      ]
     },
     "execution_count": 12,
     "metadata": {},
     "output_type": "execute_result"
    }
   ],
   "source": [
    "function insertion_sort!(v::Vector{T}) where T\n",
    "    for i in 2:length(v)\n",
    "        j = i\n",
    "        while j > 1 && v[j] < v[j-1]\n",
    "            v[j], v[j-1] = v[j-1], v[j]\n",
    "            j -= 1\n",
    "        end\n",
    "    end\n",
    "    return v\n",
    "end\n",
    "\n",
    "function insertion_sort(v::Vector{T}) where T\n",
    "    return insertion_sort!(copy(v))\n",
    "end\n",
    "\n",
    "function insertion_sortperm!(v::Vector{T}) where T\n",
    "    p = collect(1:length(v))\n",
    "    for i in 2:length(v)\n",
    "        j = i\n",
    "        while j > 1 && v[p[j]] < v[p[j-1]]\n",
    "            p[j], p[j-1] = p[j-1], p[j]\n",
    "            j -= 1\n",
    "        end\n",
    "    end\n",
    "    return p\n",
    "end\n",
    "\n",
    "function insertion_sortperm(v::Vector{T}) where T\n",
    "    return insertion_sortperm!(copy(v))\n",
    "end"
   ]
  },
  {
   "cell_type": "markdown",
   "id": "ca66dbdd",
   "metadata": {},
   "source": [
    "Функции insertion_sort! и insertion_sort принимают в качестве аргумента вектор v и сортируют его элементы в порядке возрастания с помощью алгоритма сортировки вставками. Функция insertion_sort! сортирует вектор на месте, изменяя его элементы, а функция insertion_sort создает копию вектора и сортирует ее.\n",
    "\n",
    "Функции insertion_sortperm! и insertion_sortperm также принимают в качестве аргумента вектор v и вычисляют перестановку индексов его элементов, которая сортирует их в порядке возрастания. Функция insertion_sortperm! вычисляет перестановку на месте, изменяя элементы вектора, а функция insertion_sortperm создает копию вектора и вычисляет перестановку для нее.\n",
    "\n",
    "Все эти функции используют один и тот же алгоритм сортировки вставками для выполнения своих задач. Они перебирают все элементы вектора и перемещают каждый элемент на соответствующее место в отсортированной части вектора с помощью обмена соседних элементов."
   ]
  },
  {
   "cell_type": "markdown",
   "id": "8a7cbc25",
   "metadata": {},
   "source": [
    "2. Реализовать алгоритм сортировки \"расчесыванием\", который базируется на сортировке \"пузырьком\". Исследовать эффективность этого алгоритма в равнении с пузырьковой сортировкой (на больших массивах делать времннные замеры)."
   ]
  },
  {
   "cell_type": "code",
   "execution_count": 23,
   "id": "ab60c218",
   "metadata": {},
   "outputs": [
    {
     "name": "stderr",
     "output_type": "stream",
     "text": [
      "\u001b[32m\u001b[1m   Resolving\u001b[22m\u001b[39m package versions...\n",
      "\u001b[32m\u001b[1m   Installed\u001b[22m\u001b[39m BenchmarkTools ─ v1.3.2\n",
      "\u001b[32m\u001b[1m    Updating\u001b[22m\u001b[39m `C:\\Users\\god40.DESKTOP-1OM2E86\\.julia\\environments\\v1.8\\Project.toml`\n",
      " \u001b[90m [6e4b80f9] \u001b[39m\u001b[92m+ BenchmarkTools v1.3.2\u001b[39m\n",
      "\u001b[32m\u001b[1m    Updating\u001b[22m\u001b[39m `C:\\Users\\god40.DESKTOP-1OM2E86\\.julia\\environments\\v1.8\\Manifest.toml`\n",
      " \u001b[90m [6e4b80f9] \u001b[39m\u001b[92m+ BenchmarkTools v1.3.2\u001b[39m\n",
      " \u001b[90m [9abbd945] \u001b[39m\u001b[92m+ Profile\u001b[39m\n",
      "\u001b[32m\u001b[1mPrecompiling\u001b[22m\u001b[39m project...\n",
      "\u001b[32m  ✓ \u001b[39mBenchmarkTools\n",
      "  1 dependency successfully precompiled in 1 seconds. 150 already precompiled."
     ]
    },
    {
     "name": "stdout",
     "output_type": "stream",
     "text": [
      "  608.400 μs ("
     ]
    },
    {
     "name": "stderr",
     "output_type": "stream",
     "text": [
      "\n"
     ]
    },
    {
     "name": "stdout",
     "output_type": "stream",
     "text": [
      "2 allocations: 78.17 KiB)\n",
      "  51.710 ms (2 allocations: 78.17 KiB)\n"
     ]
    },
    {
     "data": {
      "text/plain": [
       "10000-element Vector{Int64}:\n",
       "     1\n",
       "     1\n",
       "     3\n",
       "     5\n",
       "     5\n",
       "     5\n",
       "     5\n",
       "     7\n",
       "    11\n",
       "    12\n",
       "    13\n",
       "    13\n",
       "    13\n",
       "     ⋮\n",
       "  9993\n",
       "  9995\n",
       "  9996\n",
       "  9997\n",
       "  9997\n",
       "  9997\n",
       "  9998\n",
       "  9999\n",
       "  9999\n",
       " 10000\n",
       " 10000\n",
       " 10000"
      ]
     },
     "execution_count": 23,
     "metadata": {},
     "output_type": "execute_result"
    }
   ],
   "source": [
    "import Pkg\n",
    "Pkg.add(\"BenchmarkTools\")\n",
    "using BenchmarkTools\n",
    "\n",
    "function comb_sort!(v::Vector{T}) where T\n",
    "    n = length(v)\n",
    "    gap = n\n",
    "    shrink = 1.3\n",
    "    sorted = false\n",
    "    while !sorted\n",
    "        gap = max(1, floor(Int, gap / shrink))\n",
    "        sorted = true\n",
    "        for i in 1:n-gap\n",
    "            if v[i] > v[i+gap]\n",
    "                v[i], v[i+gap] = v[i+gap], v[i]\n",
    "                sorted = false\n",
    "            end\n",
    "        end\n",
    "    end\n",
    "    return v\n",
    "end\n",
    "\n",
    "function bubble_sort!(v::Vector{T}) where T\n",
    "    n = length(v)\n",
    "    for i in 1:n-1\n",
    "        for j in 1:n-i\n",
    "            if v[j] > v[j+1]\n",
    "                v[j], v[j+1] = v[j+1], v[j]\n",
    "            end\n",
    "        end\n",
    "    end\n",
    "    return v\n",
    "end\n",
    "\n",
    "v = rand(1:10000, 10000)\n",
    "@btime comb_sort!(copy(v))\n",
    "@btime bubble_sort!(copy(v))"
   ]
  },
  {
   "cell_type": "markdown",
   "id": "7b214a9f",
   "metadata": {},
   "source": [
    "Функция comb_sort! принимает в качестве аргумента вектор v и сортирует его элементы в порядке возрастания с помощью алгоритма сортировки “расчесыванием”. Этот алгоритм является улучшением алгоритма сортировки “пузырьком” и использует переменную “зазор” для сравнения элементов на большем расстоянии друг от друга. Значение зазора уменьшается на каждой итерации с помощью коэффициента сжатия shrink, пока не достигнет единицы. Затем алгоритм продолжает работать как обычная сортировка “пузырьком”.\n",
    "\n",
    "Функция bubble_sort! также принимает в качестве аргумента вектор v и сортирует его элементы в порядке возрастания с помощью алгоритма сортировки “пузырьком”. Она перебирает все пары соседних элементов и меняет их местами, если они расположены в неправильном порядке.\n",
    "\n",
    "В коде также приведен пример использования библиотеки BenchmarkTools для измерения времени выполнения обоих алгоритмов сортировки на большом массиве случайных чисел. Функция @btime используется для измерения времени выполнения каждого вызова функций comb_sort! и bubble_sort! на копии массива v. Результаты показывают, что алгоритм сортировки “расчесыванием” работает быстрее, чем алгоритм сортировки “пузырьком” на больших массивах."
   ]
  },
  {
   "cell_type": "markdown",
   "id": "20acf9ed",
   "metadata": {},
   "source": [
    "3. Реализовать алгоритм сортировки Шелла, который базируется на сортировке вставками. Исследовать эффективность этого алгоритма в равнении с сортировкой вставками (на больших массивах делать времннные замеры)."
   ]
  },
  {
   "cell_type": "code",
   "execution_count": 14,
   "id": "5d68eeaf",
   "metadata": {},
   "outputs": [
    {
     "data": {
      "text/plain": [
       "shell_sort! (generic function with 1 method)"
      ]
     },
     "execution_count": 14,
     "metadata": {},
     "output_type": "execute_result"
    }
   ],
   "source": [
    "function shell_sort!(a::Vector)\n",
    "    n = length(a)\n",
    "    gap = n ÷ 2\n",
    "    while gap > 0\n",
    "        for i in (gap+1):n\n",
    "            temp = a[i]\n",
    "            j = i\n",
    "            while j > gap && a[j-gap] > temp\n",
    "                a[j] = a[j-gap]\n",
    "                j -= gap\n",
    "            end\n",
    "            a[j] = temp\n",
    "        end\n",
    "        gap = gap ÷ 2\n",
    "    end\n",
    "end"
   ]
  },
  {
   "cell_type": "markdown",
   "id": "d242bdbd",
   "metadata": {},
   "source": [
    "Чтобы исследовать эффективность этого алгоритма в сравнении с сортировкой вставками, можно использовать функцию @time для замера времени выполнения обоих алгоритмов на больших массивах."
   ]
  },
  {
   "cell_type": "code",
   "execution_count": 15,
   "id": "edc972dc",
   "metadata": {},
   "outputs": [
    {
     "name": "stdout",
     "output_type": "stream",
     "text": [
      "  0.026986 seconds (8.06 k allocations: 1.170 MiB, 59.74% compilation time)\n",
      "  0.813879 seconds (52.12 k allocations: 3.439 MiB, 3.09% compilation time)\n"
     ]
    },
    {
     "data": {
      "text/plain": [
       "100000-element Vector{Int64}:\n",
       "      5\n",
       "      7\n",
       "      8\n",
       "     28\n",
       "     34\n",
       "     37\n",
       "     43\n",
       "     51\n",
       "     64\n",
       "     79\n",
       "     83\n",
       "     88\n",
       "     95\n",
       "      ⋮\n",
       " 999910\n",
       " 999924\n",
       " 999930\n",
       " 999938\n",
       " 999946\n",
       " 999947\n",
       " 999957\n",
       " 999976\n",
       " 999982\n",
       " 999985\n",
       " 999988\n",
       " 999992"
      ]
     },
     "execution_count": 15,
     "metadata": {},
     "output_type": "execute_result"
    }
   ],
   "source": [
    "using Random\n",
    "\n",
    "arr = rand(1:10^6, 10^5)\n",
    "\n",
    "@time shell_sort!(copy(arr))\n",
    "@time sort!(copy(arr), alg=InsertionSort)"
   ]
  },
  {
   "cell_type": "markdown",
   "id": "0e5df5eb",
   "metadata": {},
   "source": [
    "4. Реализовать алгоритм сортировки слияниями. Исследовать эффективность этого алгоритма в сравнении с предыдущми алгоритмами."
   ]
  },
  {
   "cell_type": "code",
   "execution_count": 16,
   "id": "27322e6e",
   "metadata": {},
   "outputs": [
    {
     "data": {
      "text/plain": [
       "merge_sort! (generic function with 1 method)"
      ]
     },
     "execution_count": 16,
     "metadata": {},
     "output_type": "execute_result"
    }
   ],
   "source": [
    "function merge_sort!(a::Vector)\n",
    "    if length(a) > 1\n",
    "        mid = length(a) ÷ 2\n",
    "        left_half = a[1:mid]\n",
    "        right_half = a[mid+1:end]\n",
    "\n",
    "        merge_sort!(left_half)\n",
    "        merge_sort!(right_half)\n",
    "\n",
    "        i = j = k = 1\n",
    "\n",
    "        while i <= length(left_half) && j <= length(right_half)\n",
    "            if left_half[i] < right_half[j]\n",
    "                a[k] = left_half[i]\n",
    "                i += 1\n",
    "            else\n",
    "                a[k] = right_half[j]\n",
    "                j += 1\n",
    "            end\n",
    "            k += 1\n",
    "        end\n",
    "\n",
    "        while i <= length(left_half)\n",
    "            a[k] = left_half[i]\n",
    "            i += 1\n",
    "            k += 1\n",
    "        end\n",
    "\n",
    "        while j <= length(right_half)\n",
    "            a[k] = right_half[j]\n",
    "            j += 1\n",
    "            k += 1\n",
    "        end\n",
    "    end\n",
    "end"
   ]
  },
  {
   "cell_type": "markdown",
   "id": "cdd4ecda",
   "metadata": {},
   "source": [
    "# Практика 6\n",
    "1. Спроектировать типы `Vector2D` и `Segment2D` с соответсвующими функциями."
   ]
  },
  {
   "cell_type": "code",
   "execution_count": 17,
   "id": "6f082210",
   "metadata": {},
   "outputs": [
    {
     "ename": "LoadError",
     "evalue": "error in method definition: function Base.length must be explicitly imported to be extended",
     "output_type": "error",
     "traceback": [
      "error in method definition: function Base.length must be explicitly imported to be extended",
      "",
      "Stacktrace:",
      " [1] top-level scope",
      "   @ none:0",
      " [2] top-level scope",
      "   @ In[17]:11"
     ]
    }
   ],
   "source": [
    "struct Vector2D\n",
    "    x::Float64\n",
    "    y::Float64\n",
    "end\n",
    "\n",
    "struct Segment2D\n",
    "    start::Vector2D\n",
    "    stop::Vector2D\n",
    "end\n",
    "\n",
    "function length(v::Vector2D)\n",
    "    return sqrt(v.x^2 + v.y^2)\n",
    "end\n",
    "\n",
    "function length(s::Segment2D)\n",
    "    return length(s.stop - s.start)\n",
    "end"
   ]
  },
  {
   "cell_type": "markdown",
   "id": "8c61adb0",
   "metadata": {},
   "source": [
    "Этот код создает два типа: Vector2D и Segment2D. Тип Vector2D имеет два поля: x и y, которые представляют координаты вектора. Тип Segment2D имеет два поля: start и stop, которые представляют начало и конец отрезка.\n",
    "\n",
    "Также в коде определены две функции: length для вычисления длины вектора и отрезка. Функция length для вектора вычисляет длину вектора как квадратный корень из суммы квадратов его координат. Функция length для отрезка вычисляет длину отрезка как длину вектора между его началом и концом."
   ]
  },
  {
   "cell_type": "markdown",
   "id": "0c88406e",
   "metadata": {},
   "source": [
    "2. Написать функцию, проверяющую, лежат ли две заданные точки по одну сторону от заданной прямой (прямая задается некоторым содержащимся в ней отрезком). "
   ]
  },
  {
   "cell_type": "code",
   "execution_count": 18,
   "id": "40f9366d",
   "metadata": {},
   "outputs": [
    {
     "data": {
      "text/plain": [
       "same_side_of_line (generic function with 1 method)"
      ]
     },
     "execution_count": 18,
     "metadata": {},
     "output_type": "execute_result"
    }
   ],
   "source": [
    "function same_side_of_line(p1::Vector2D, p2::Vector2D, s::Segment2D)\n",
    "    a = s.stop.y - s.start.y\n",
    "    b = s.start.x - s.stop.x\n",
    "    c = s.start.x * s.stop.y - s.stop.x * s.start.y\n",
    "    return (a * p1.x + b * p1.y + c) * (a * p2.x + b * p2.y + c) > 0\n",
    "end"
   ]
  },
  {
   "cell_type": "markdown",
   "id": "aec5c904",
   "metadata": {},
   "source": [
    "Эта функция принимает три аргумента: две точки p1 и p2 типа Vector2D и отрезок s типа Segment2D, который задает прямую. Функция вычисляет коэффициенты a, b и c уравнения прямой вида ax + by + c = 0, проходящей через начало и конец отрезка. Затем функция вычисляет значения этого уравнения для точек p1 и p2 и проверяет, имеют ли они одинаковый знак. Если значения имеют одинаковый знак, то точки лежат по одну сторону от прямой, и функция возвращает true. В противном случае функция возвращает false."
   ]
  },
  {
   "cell_type": "markdown",
   "id": "2ab157ed",
   "metadata": {},
   "source": [
    "3. Написать функцию, проверяющую, лежат ли две заданные точки по одну сторону от заданной кривой (кривая задается уравнением вида $F(x,y)=0$). "
   ]
  },
  {
   "cell_type": "code",
   "execution_count": 19,
   "id": "b79b6baf",
   "metadata": {},
   "outputs": [
    {
     "data": {
      "text/plain": [
       "same_side_of_curve (generic function with 1 method)"
      ]
     },
     "execution_count": 19,
     "metadata": {},
     "output_type": "execute_result"
    }
   ],
   "source": [
    "function same_side_of_curve(p1::Vector2D, p2::Vector2D, f::Function)\n",
    "    return f(p1.x, p1.y) * f(p2.x, p2.y) > 0\n",
    "end"
   ]
  },
  {
   "cell_type": "markdown",
   "id": "0424cd0f",
   "metadata": {},
   "source": [
    "Эта функция принимает три аргумента: две точки p1 и p2 типа Vector2D и функцию f, которая задает кривую уравнением вида F(x,y)=0. Функция вычисляет значения функции f для точек p1 и p2 и проверяет, имеют ли они одинаковый знак. Если значения имеют одинаковый знак, то точки лежат по одну сторону от кривой, и функция возвращает true. В противном случае функция возвращает false."
   ]
  },
  {
   "cell_type": "markdown",
   "id": "fbaab0d5",
   "metadata": {},
   "source": [
    "4. Написать функцию, возвращающую точку пересечения (если она существует) двух заданных отрезков."
   ]
  },
  {
   "cell_type": "code",
   "execution_count": 20,
   "id": "5343bda0",
   "metadata": {},
   "outputs": [
    {
     "data": {
      "text/plain": [
       "intersection (generic function with 1 method)"
      ]
     },
     "execution_count": 20,
     "metadata": {},
     "output_type": "execute_result"
    }
   ],
   "source": [
    "function intersection(s1::Segment2D, s2::Segment2D)\n",
    "    x1, y1 = s1.start.x, s1.start.y\n",
    "    x2, y2 = s1.stop.x, s1.stop.y\n",
    "    x3, y3 = s2.start.x, s2.start.y\n",
    "    x4, y4 = s2.stop.x, s2.stop.y\n",
    "\n",
    "    det = (x1 - x2) * (y3 - y4) - (y1 - y2) * (x3 - x4)\n",
    "    if det == 0\n",
    "        return nothing\n",
    "    end\n",
    "\n",
    "    px = ((x1 * y2 - y1 * x2) * (x3 - x4) - (x1 - x2) * (x3 * y4 - y3 * x4)) / det\n",
    "    py = ((x1 * y2 - y1 * x2) * (y3 - y4) - (y1 - y2) * (x3 * y4 - y3 * x4)) / det\n",
    "\n",
    "    if px < min(x1, x2) || px > max(x1, x2) || px < min(x3, x4) || px > max(x3, x4)\n",
    "        return nothing\n",
    "    end\n",
    "\n",
    "    return Vector2D(px, py)\n",
    "end"
   ]
  },
  {
   "cell_type": "markdown",
   "id": "eb4f6d7f",
   "metadata": {},
   "source": [
    "Эта функция принимает два аргумента: два отрезка s1 и s2 типа Segment2D. Функция вычисляет координаты начала и конца каждого отрезка и затем вычисляет определитель матрицы системы уравнений прямых, проходящих через эти отрезки. Если определитель равен нулю, то прямые параллельны и не имеют точки пересечения, и функция возвращает nothing.\n",
    "\n",
    "Если определитель не равен нулю, то функция вычисляет координаты точки пересечения прямых и проверяет, лежит ли эта точка внутри обоих отрезков. Если точка лежит внутри обоих отрезков, то функция возвращает эту точку как объект типа Vector2D. В противном случае функция возвращает nothing."
   ]
  },
  {
   "cell_type": "markdown",
   "id": "4fbe89cb",
   "metadata": {},
   "source": [
    "5. Написать функцию, проверяющую лежит ли заданная точка внутри заданного многоугольника. "
   ]
  },
  {
   "cell_type": "code",
   "execution_count": 21,
   "id": "75bf387c",
   "metadata": {},
   "outputs": [
    {
     "data": {
      "text/plain": [
       "inside_polygon (generic function with 1 method)"
      ]
     },
     "execution_count": 21,
     "metadata": {},
     "output_type": "execute_result"
    }
   ],
   "source": [
    "function inside_polygon(p::Vector2D, poly::Vector{Vector2D})\n",
    "    n = length(poly)\n",
    "    c = false\n",
    "    for i in 1:n\n",
    "        j = i % n + 1\n",
    "        if ((poly[i].y > p.y) != (poly[j].y > p.y)) && (p.x < (poly[j].x - poly[i].x) * (p.y - poly[i].y) / (poly[j].y - poly[i].y) + poly[i].x)\n",
    "            c = !c\n",
    "        end\n",
    "    end\n",
    "    return c\n",
    "end"
   ]
  },
  {
   "cell_type": "markdown",
   "id": "e15a1c86",
   "metadata": {},
   "source": [
    "Эта функция принимает два аргумента: точку p типа Vector2D и многоугольник poly, представленный вектором вершин типа Vector{Vector2D}. Функция использует алгоритм трассировки луча для определения положения точки относительно многоугольника. Функция инициализирует переменную c значением false и затем перебирает все ребра многоугольника. Для каждого ребра функция проверяет, пересекает ли горизонтальный луч, исходящий из точки p вправо, это ребро. Если луч пересекает ребро, то функция инвертирует значение переменной c. В конце функция возвращает значение переменной c, которое равно true, если точка лежит внутри многоугольника, и false в противном случае."
   ]
  }
 ],
 "metadata": {
  "kernelspec": {
   "display_name": "Julia 1.8.3",
   "language": "julia",
   "name": "julia-1.8"
  },
  "language_info": {
   "file_extension": ".jl",
   "mimetype": "application/julia",
   "name": "julia",
   "version": "1.8.3"
  }
 },
 "nbformat": 4,
 "nbformat_minor": 5
}
